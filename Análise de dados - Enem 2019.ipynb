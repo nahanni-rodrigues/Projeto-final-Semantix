{
 "cells": [
  {
   "cell_type": "markdown",
   "metadata": {},
   "source": [
    "# Análise de dados - Enem 2019"
   ]
  },
  {
   "cell_type": "markdown",
   "metadata": {},
   "source": [
    "# O que nos dizem os dados?"
   ]
  },
  {
   "cell_type": "markdown",
   "metadata": {},
   "source": [
    "Carregamento dos dados disponíveis no arquivo MICRODADOS_ENEM_2019"
   ]
  },
  {
   "cell_type": "code",
   "execution_count": 1,
   "metadata": {},
   "outputs": [],
   "source": [
    "import numpy as np\n",
    "import pandas as pd\n",
    "import matplotlib.pyplot as plt\n",
    "import plotly.graph_objects as go"
   ]
  },
  {
   "cell_type": "code",
   "execution_count": 2,
   "metadata": {},
   "outputs": [
    {
     "name": "stdout",
     "output_type": "stream",
     "text": [
      "Total de Linhas: 5095271\n"
     ]
    }
   ],
   "source": [
    "import random\n",
    "seed = 31123 # define o padrao de aleatoriedade\n",
    "np.random.seed(seed)\n",
    "\n",
    "total_linhas = sum(1 for l in open(\"MICRODADOS_ENEM_2019.csv\",encoding=\"ISO-8859-1\") )#conta quantas linhas tem o data set\n",
    "print(f'Total de Linhas: {total_linhas}')"
   ]
  },
  {
   "cell_type": "code",
   "execution_count": 3,
   "metadata": {},
   "outputs": [
    {
     "name": "stdout",
     "output_type": "stream",
     "text": [
      "Total de Linhas para Estudo: 2292871\n"
     ]
    }
   ],
   "source": [
    "# Leitura dos dados do arquivo MICRODADOS_ENEM_2019\n",
    "p = 0.45 \n",
    "tamanho = int(total_linhas*p)# calcula quanto é p% dos dados \n",
    "print(f'Total de Linhas para Estudo: {tamanho}')\n",
    "\n",
    "index = random.sample(range(1, total_linhas), total_linhas - tamanho)# lista de numeros aleatorios\n",
    "\n",
    "microdados_enem = pd.read_csv(\"MICRODADOS_ENEM_2019.csv\",encoding=\"ISO-8859-1\",delimiter=\";\",skiprows=index)\n"
   ]
  },
  {
   "cell_type": "code",
   "execution_count": 4,
   "metadata": {},
   "outputs": [
    {
     "data": {
      "text/html": [
       "<div>\n",
       "<style scoped>\n",
       "    .dataframe tbody tr th:only-of-type {\n",
       "        vertical-align: middle;\n",
       "    }\n",
       "\n",
       "    .dataframe tbody tr th {\n",
       "        vertical-align: top;\n",
       "    }\n",
       "\n",
       "    .dataframe thead th {\n",
       "        text-align: right;\n",
       "    }\n",
       "</style>\n",
       "<table border=\"1\" class=\"dataframe\">\n",
       "  <thead>\n",
       "    <tr style=\"text-align: right;\">\n",
       "      <th></th>\n",
       "      <th>NU_INSCRICAO</th>\n",
       "      <th>NU_ANO</th>\n",
       "      <th>CO_MUNICIPIO_RESIDENCIA</th>\n",
       "      <th>NO_MUNICIPIO_RESIDENCIA</th>\n",
       "      <th>CO_UF_RESIDENCIA</th>\n",
       "      <th>SG_UF_RESIDENCIA</th>\n",
       "      <th>NU_IDADE</th>\n",
       "      <th>TP_SEXO</th>\n",
       "      <th>TP_ESTADO_CIVIL</th>\n",
       "      <th>TP_COR_RACA</th>\n",
       "      <th>...</th>\n",
       "      <th>Q016</th>\n",
       "      <th>Q017</th>\n",
       "      <th>Q018</th>\n",
       "      <th>Q019</th>\n",
       "      <th>Q020</th>\n",
       "      <th>Q021</th>\n",
       "      <th>Q022</th>\n",
       "      <th>Q023</th>\n",
       "      <th>Q024</th>\n",
       "      <th>Q025</th>\n",
       "    </tr>\n",
       "  </thead>\n",
       "  <tbody>\n",
       "    <tr>\n",
       "      <th>0</th>\n",
       "      <td>190001199383</td>\n",
       "      <td>2019</td>\n",
       "      <td>1721000</td>\n",
       "      <td>Palmas</td>\n",
       "      <td>17</td>\n",
       "      <td>TO</td>\n",
       "      <td>25.0</td>\n",
       "      <td>F</td>\n",
       "      <td>1</td>\n",
       "      <td>1</td>\n",
       "      <td>...</td>\n",
       "      <td>A</td>\n",
       "      <td>A</td>\n",
       "      <td>A</td>\n",
       "      <td>C</td>\n",
       "      <td>A</td>\n",
       "      <td>B</td>\n",
       "      <td>D</td>\n",
       "      <td>A</td>\n",
       "      <td>B</td>\n",
       "      <td>B</td>\n",
       "    </tr>\n",
       "    <tr>\n",
       "      <th>1</th>\n",
       "      <td>190001237802</td>\n",
       "      <td>2019</td>\n",
       "      <td>3118601</td>\n",
       "      <td>Contagem</td>\n",
       "      <td>31</td>\n",
       "      <td>MG</td>\n",
       "      <td>22.0</td>\n",
       "      <td>F</td>\n",
       "      <td>1</td>\n",
       "      <td>1</td>\n",
       "      <td>...</td>\n",
       "      <td>B</td>\n",
       "      <td>A</td>\n",
       "      <td>A</td>\n",
       "      <td>B</td>\n",
       "      <td>A</td>\n",
       "      <td>A</td>\n",
       "      <td>C</td>\n",
       "      <td>B</td>\n",
       "      <td>B</td>\n",
       "      <td>B</td>\n",
       "    </tr>\n",
       "    <tr>\n",
       "      <th>2</th>\n",
       "      <td>190001421548</td>\n",
       "      <td>2019</td>\n",
       "      <td>2924009</td>\n",
       "      <td>Paulo Afonso</td>\n",
       "      <td>29</td>\n",
       "      <td>BA</td>\n",
       "      <td>22.0</td>\n",
       "      <td>F</td>\n",
       "      <td>1</td>\n",
       "      <td>3</td>\n",
       "      <td>...</td>\n",
       "      <td>A</td>\n",
       "      <td>A</td>\n",
       "      <td>A</td>\n",
       "      <td>B</td>\n",
       "      <td>A</td>\n",
       "      <td>A</td>\n",
       "      <td>B</td>\n",
       "      <td>A</td>\n",
       "      <td>A</td>\n",
       "      <td>A</td>\n",
       "    </tr>\n",
       "    <tr>\n",
       "      <th>3</th>\n",
       "      <td>190001592264</td>\n",
       "      <td>2019</td>\n",
       "      <td>3550308</td>\n",
       "      <td>São Paulo</td>\n",
       "      <td>35</td>\n",
       "      <td>SP</td>\n",
       "      <td>20.0</td>\n",
       "      <td>F</td>\n",
       "      <td>1</td>\n",
       "      <td>1</td>\n",
       "      <td>...</td>\n",
       "      <td>B</td>\n",
       "      <td>A</td>\n",
       "      <td>A</td>\n",
       "      <td>B</td>\n",
       "      <td>A</td>\n",
       "      <td>A</td>\n",
       "      <td>B</td>\n",
       "      <td>B</td>\n",
       "      <td>A</td>\n",
       "      <td>A</td>\n",
       "    </tr>\n",
       "    <tr>\n",
       "      <th>4</th>\n",
       "      <td>190001592266</td>\n",
       "      <td>2019</td>\n",
       "      <td>3550308</td>\n",
       "      <td>São Paulo</td>\n",
       "      <td>35</td>\n",
       "      <td>SP</td>\n",
       "      <td>17.0</td>\n",
       "      <td>M</td>\n",
       "      <td>1</td>\n",
       "      <td>1</td>\n",
       "      <td>...</td>\n",
       "      <td>B</td>\n",
       "      <td>A</td>\n",
       "      <td>A</td>\n",
       "      <td>B</td>\n",
       "      <td>A</td>\n",
       "      <td>B</td>\n",
       "      <td>C</td>\n",
       "      <td>B</td>\n",
       "      <td>B</td>\n",
       "      <td>B</td>\n",
       "    </tr>\n",
       "  </tbody>\n",
       "</table>\n",
       "<p>5 rows × 136 columns</p>\n",
       "</div>"
      ],
      "text/plain": [
       "   NU_INSCRICAO  NU_ANO  CO_MUNICIPIO_RESIDENCIA NO_MUNICIPIO_RESIDENCIA  \\\n",
       "0  190001199383    2019                  1721000                  Palmas   \n",
       "1  190001237802    2019                  3118601                Contagem   \n",
       "2  190001421548    2019                  2924009            Paulo Afonso   \n",
       "3  190001592264    2019                  3550308               São Paulo   \n",
       "4  190001592266    2019                  3550308               São Paulo   \n",
       "\n",
       "   CO_UF_RESIDENCIA SG_UF_RESIDENCIA  NU_IDADE TP_SEXO  TP_ESTADO_CIVIL  \\\n",
       "0                17               TO      25.0       F                1   \n",
       "1                31               MG      22.0       F                1   \n",
       "2                29               BA      22.0       F                1   \n",
       "3                35               SP      20.0       F                1   \n",
       "4                35               SP      17.0       M                1   \n",
       "\n",
       "   TP_COR_RACA  ...  Q016  Q017 Q018  Q019 Q020  Q021  Q022  Q023  Q024  Q025  \n",
       "0            1  ...     A     A    A     C    A     B     D     A     B     B  \n",
       "1            1  ...     B     A    A     B    A     A     C     B     B     B  \n",
       "2            3  ...     A     A    A     B    A     A     B     A     A     A  \n",
       "3            1  ...     B     A    A     B    A     A     B     B     A     A  \n",
       "4            1  ...     B     A    A     B    A     B     C     B     B     B  \n",
       "\n",
       "[5 rows x 136 columns]"
      ]
     },
     "execution_count": 4,
     "metadata": {},
     "output_type": "execute_result"
    }
   ],
   "source": [
    "microdados_enem.head()"
   ]
  },
  {
   "cell_type": "code",
   "execution_count": 5,
   "metadata": {},
   "outputs": [],
   "source": [
    "microdados_enem.drop_duplicates(keep = False, inplace = True)"
   ]
  },
  {
   "cell_type": "code",
   "execution_count": 6,
   "metadata": {},
   "outputs": [
    {
     "data": {
      "text/plain": [
       "array(['NU_INSCRICAO', 'NU_ANO', 'CO_MUNICIPIO_RESIDENCIA',\n",
       "       'NO_MUNICIPIO_RESIDENCIA', 'CO_UF_RESIDENCIA', 'SG_UF_RESIDENCIA',\n",
       "       'NU_IDADE', 'TP_SEXO', 'TP_ESTADO_CIVIL', 'TP_COR_RACA',\n",
       "       'TP_NACIONALIDADE', 'CO_MUNICIPIO_NASCIMENTO',\n",
       "       'NO_MUNICIPIO_NASCIMENTO', 'CO_UF_NASCIMENTO', 'SG_UF_NASCIMENTO',\n",
       "       'TP_ST_CONCLUSAO', 'TP_ANO_CONCLUIU', 'TP_ESCOLA', 'TP_ENSINO',\n",
       "       'IN_TREINEIRO', 'CO_ESCOLA', 'CO_MUNICIPIO_ESC',\n",
       "       'NO_MUNICIPIO_ESC', 'CO_UF_ESC', 'SG_UF_ESC',\n",
       "       'TP_DEPENDENCIA_ADM_ESC', 'TP_LOCALIZACAO_ESC', 'TP_SIT_FUNC_ESC',\n",
       "       'IN_BAIXA_VISAO', 'IN_CEGUEIRA', 'IN_SURDEZ',\n",
       "       'IN_DEFICIENCIA_AUDITIVA', 'IN_SURDO_CEGUEIRA',\n",
       "       'IN_DEFICIENCIA_FISICA', 'IN_DEFICIENCIA_MENTAL',\n",
       "       'IN_DEFICIT_ATENCAO', 'IN_DISLEXIA', 'IN_DISCALCULIA',\n",
       "       'IN_AUTISMO', 'IN_VISAO_MONOCULAR', 'IN_OUTRA_DEF', 'IN_GESTANTE',\n",
       "       'IN_LACTANTE', 'IN_IDOSO', 'IN_ESTUDA_CLASSE_HOSPITALAR',\n",
       "       'IN_SEM_RECURSO', 'IN_BRAILLE', 'IN_AMPLIADA_24', 'IN_AMPLIADA_18',\n",
       "       'IN_LEDOR', 'IN_ACESSO', 'IN_TRANSCRICAO', 'IN_LIBRAS',\n",
       "       'IN_TEMPO_ADICIONAL', 'IN_LEITURA_LABIAL', 'IN_MESA_CADEIRA_RODAS',\n",
       "       'IN_MESA_CADEIRA_SEPARADA', 'IN_APOIO_PERNA', 'IN_GUIA_INTERPRETE',\n",
       "       'IN_COMPUTADOR', 'IN_CADEIRA_ESPECIAL', 'IN_CADEIRA_CANHOTO',\n",
       "       'IN_CADEIRA_ACOLCHOADA', 'IN_PROVA_DEITADO', 'IN_MOBILIARIO_OBESO',\n",
       "       'IN_LAMINA_OVERLAY', 'IN_PROTETOR_AURICULAR', 'IN_MEDIDOR_GLICOSE',\n",
       "       'IN_MAQUINA_BRAILE', 'IN_SOROBAN', 'IN_MARCA_PASSO', 'IN_SONDA',\n",
       "       'IN_MEDICAMENTOS', 'IN_SALA_INDIVIDUAL', 'IN_SALA_ESPECIAL',\n",
       "       'IN_SALA_ACOMPANHANTE', 'IN_MOBILIARIO_ESPECIFICO',\n",
       "       'IN_MATERIAL_ESPECIFICO', 'IN_NOME_SOCIAL', 'CO_MUNICIPIO_PROVA',\n",
       "       'NO_MUNICIPIO_PROVA', 'CO_UF_PROVA', 'SG_UF_PROVA',\n",
       "       'TP_PRESENCA_CN', 'TP_PRESENCA_CH', 'TP_PRESENCA_LC',\n",
       "       'TP_PRESENCA_MT', 'CO_PROVA_CN', 'CO_PROVA_CH', 'CO_PROVA_LC',\n",
       "       'CO_PROVA_MT', 'NU_NOTA_CN', 'NU_NOTA_CH', 'NU_NOTA_LC',\n",
       "       'NU_NOTA_MT', 'TX_RESPOSTAS_CN', 'TX_RESPOSTAS_CH',\n",
       "       'TX_RESPOSTAS_LC', 'TX_RESPOSTAS_MT', 'TP_LINGUA',\n",
       "       'TX_GABARITO_CN', 'TX_GABARITO_CH', 'TX_GABARITO_LC',\n",
       "       'TX_GABARITO_MT', 'TP_STATUS_REDACAO', 'NU_NOTA_COMP1',\n",
       "       'NU_NOTA_COMP2', 'NU_NOTA_COMP3', 'NU_NOTA_COMP4', 'NU_NOTA_COMP5',\n",
       "       'NU_NOTA_REDACAO', 'Q001', 'Q002', 'Q003', 'Q004', 'Q005', 'Q006',\n",
       "       'Q007', 'Q008', 'Q009', 'Q010', 'Q011', 'Q012', 'Q013', 'Q014',\n",
       "       'Q015', 'Q016', 'Q017', 'Q018', 'Q019', 'Q020', 'Q021', 'Q022',\n",
       "       'Q023', 'Q024', 'Q025'], dtype=object)"
      ]
     },
     "execution_count": 6,
     "metadata": {},
     "output_type": "execute_result"
    }
   ],
   "source": [
    "microdados_enem.columns.values"
   ]
  },
  {
   "cell_type": "markdown",
   "metadata": {},
   "source": [
    "Os dados serão organizados de acordo com o estado onde o participante mora, em ordem alfabética dos estados, para se ter um contexto de avaliação do desempenho do aluno de acordo com a sua geolocalização."
   ]
  },
  {
   "cell_type": "code",
   "execution_count": 7,
   "metadata": {},
   "outputs": [
    {
     "data": {
      "text/plain": [
       "['AC',\n",
       " 'AL',\n",
       " 'AM',\n",
       " 'AP',\n",
       " 'BA',\n",
       " 'CE',\n",
       " 'DF',\n",
       " 'ES',\n",
       " 'GO',\n",
       " 'MA',\n",
       " 'MG',\n",
       " 'MS',\n",
       " 'MT',\n",
       " 'PA',\n",
       " 'PB',\n",
       " 'PE',\n",
       " 'PI',\n",
       " 'PR',\n",
       " 'RJ',\n",
       " 'RN',\n",
       " 'RO',\n",
       " 'RR',\n",
       " 'RS',\n",
       " 'SC',\n",
       " 'SE',\n",
       " 'SP',\n",
       " 'TO']"
      ]
     },
     "execution_count": 7,
     "metadata": {},
     "output_type": "execute_result"
    }
   ],
   "source": [
    "sorted(microdados_enem['SG_UF_RESIDENCIA'].unique())"
   ]
  },
  {
   "cell_type": "code",
   "execution_count": 8,
   "metadata": {},
   "outputs": [],
   "source": [
    "estudo1_microdados = pd.DataFrame(microdados_enem, columns = ['NU_INSCRICAO', 'SG_UF_RESIDENCIA','NU_IDADE', 'TP_SEXO', 'TP_COR_RACA', 'TP_ST_CONCLUSAO', 'TP_ANO_CONCLUIU', 'TP_ESCOLA', 'TP_ENSINO', 'IN_TREINEIRO', 'NU_NOTA_CN', 'NU_NOTA_CH', 'NU_NOTA_LC',\n",
    "       'NU_NOTA_MT', 'NU_NOTA_REDACAO', 'Q006' ])"
   ]
  },
  {
   "cell_type": "code",
   "execution_count": 9,
   "metadata": {},
   "outputs": [],
   "source": [
    "estudo1_microdados.isnull().sum()\n",
    "estudo1_microdados.dropna(inplace=True)"
   ]
  },
  {
   "cell_type": "code",
   "execution_count": 10,
   "metadata": {},
   "outputs": [
    {
     "data": {
      "text/html": [
       "<div>\n",
       "<style scoped>\n",
       "    .dataframe tbody tr th:only-of-type {\n",
       "        vertical-align: middle;\n",
       "    }\n",
       "\n",
       "    .dataframe tbody tr th {\n",
       "        vertical-align: top;\n",
       "    }\n",
       "\n",
       "    .dataframe thead th {\n",
       "        text-align: right;\n",
       "    }\n",
       "</style>\n",
       "<table border=\"1\" class=\"dataframe\">\n",
       "  <thead>\n",
       "    <tr style=\"text-align: right;\">\n",
       "      <th></th>\n",
       "      <th>NU_INSCRICAO</th>\n",
       "      <th>SG_UF_RESIDENCIA</th>\n",
       "      <th>NU_IDADE</th>\n",
       "      <th>TP_SEXO</th>\n",
       "      <th>TP_COR_RACA</th>\n",
       "      <th>TP_ST_CONCLUSAO</th>\n",
       "      <th>TP_ANO_CONCLUIU</th>\n",
       "      <th>TP_ESCOLA</th>\n",
       "      <th>TP_ENSINO</th>\n",
       "      <th>IN_TREINEIRO</th>\n",
       "      <th>NU_NOTA_CN</th>\n",
       "      <th>NU_NOTA_CH</th>\n",
       "      <th>NU_NOTA_LC</th>\n",
       "      <th>NU_NOTA_MT</th>\n",
       "      <th>NU_NOTA_REDACAO</th>\n",
       "      <th>Q006</th>\n",
       "    </tr>\n",
       "  </thead>\n",
       "  <tbody>\n",
       "    <tr>\n",
       "      <th>1</th>\n",
       "      <td>190001237802</td>\n",
       "      <td>MG</td>\n",
       "      <td>22.0</td>\n",
       "      <td>F</td>\n",
       "      <td>1</td>\n",
       "      <td>1</td>\n",
       "      <td>4</td>\n",
       "      <td>1</td>\n",
       "      <td>1.0</td>\n",
       "      <td>0</td>\n",
       "      <td>513.6</td>\n",
       "      <td>575.5</td>\n",
       "      <td>570.7</td>\n",
       "      <td>677.0</td>\n",
       "      <td>860.0</td>\n",
       "      <td>G</td>\n",
       "    </tr>\n",
       "    <tr>\n",
       "      <th>2</th>\n",
       "      <td>190001421548</td>\n",
       "      <td>BA</td>\n",
       "      <td>22.0</td>\n",
       "      <td>F</td>\n",
       "      <td>3</td>\n",
       "      <td>1</td>\n",
       "      <td>5</td>\n",
       "      <td>1</td>\n",
       "      <td>1.0</td>\n",
       "      <td>0</td>\n",
       "      <td>484.6</td>\n",
       "      <td>488.4</td>\n",
       "      <td>507.2</td>\n",
       "      <td>594.7</td>\n",
       "      <td>600.0</td>\n",
       "      <td>B</td>\n",
       "    </tr>\n",
       "    <tr>\n",
       "      <th>4</th>\n",
       "      <td>190001592266</td>\n",
       "      <td>SP</td>\n",
       "      <td>17.0</td>\n",
       "      <td>M</td>\n",
       "      <td>1</td>\n",
       "      <td>2</td>\n",
       "      <td>0</td>\n",
       "      <td>2</td>\n",
       "      <td>1.0</td>\n",
       "      <td>0</td>\n",
       "      <td>543.9</td>\n",
       "      <td>548.1</td>\n",
       "      <td>502.5</td>\n",
       "      <td>480.7</td>\n",
       "      <td>400.0</td>\n",
       "      <td>F</td>\n",
       "    </tr>\n",
       "    <tr>\n",
       "      <th>6</th>\n",
       "      <td>190001475147</td>\n",
       "      <td>RN</td>\n",
       "      <td>19.0</td>\n",
       "      <td>M</td>\n",
       "      <td>4</td>\n",
       "      <td>1</td>\n",
       "      <td>1</td>\n",
       "      <td>1</td>\n",
       "      <td>1.0</td>\n",
       "      <td>0</td>\n",
       "      <td>518.2</td>\n",
       "      <td>351.7</td>\n",
       "      <td>417.6</td>\n",
       "      <td>459.0</td>\n",
       "      <td>500.0</td>\n",
       "      <td>C</td>\n",
       "    </tr>\n",
       "    <tr>\n",
       "      <th>17</th>\n",
       "      <td>190001237805</td>\n",
       "      <td>MG</td>\n",
       "      <td>22.0</td>\n",
       "      <td>F</td>\n",
       "      <td>1</td>\n",
       "      <td>1</td>\n",
       "      <td>5</td>\n",
       "      <td>1</td>\n",
       "      <td>1.0</td>\n",
       "      <td>0</td>\n",
       "      <td>560.0</td>\n",
       "      <td>592.0</td>\n",
       "      <td>591.1</td>\n",
       "      <td>695.1</td>\n",
       "      <td>540.0</td>\n",
       "      <td>G</td>\n",
       "    </tr>\n",
       "  </tbody>\n",
       "</table>\n",
       "</div>"
      ],
      "text/plain": [
       "    NU_INSCRICAO SG_UF_RESIDENCIA  NU_IDADE TP_SEXO  TP_COR_RACA  \\\n",
       "1   190001237802               MG      22.0       F            1   \n",
       "2   190001421548               BA      22.0       F            3   \n",
       "4   190001592266               SP      17.0       M            1   \n",
       "6   190001475147               RN      19.0       M            4   \n",
       "17  190001237805               MG      22.0       F            1   \n",
       "\n",
       "    TP_ST_CONCLUSAO  TP_ANO_CONCLUIU  TP_ESCOLA  TP_ENSINO  IN_TREINEIRO  \\\n",
       "1                 1                4          1        1.0             0   \n",
       "2                 1                5          1        1.0             0   \n",
       "4                 2                0          2        1.0             0   \n",
       "6                 1                1          1        1.0             0   \n",
       "17                1                5          1        1.0             0   \n",
       "\n",
       "    NU_NOTA_CN  NU_NOTA_CH  NU_NOTA_LC  NU_NOTA_MT  NU_NOTA_REDACAO Q006  \n",
       "1        513.6       575.5       570.7       677.0            860.0    G  \n",
       "2        484.6       488.4       507.2       594.7            600.0    B  \n",
       "4        543.9       548.1       502.5       480.7            400.0    F  \n",
       "6        518.2       351.7       417.6       459.0            500.0    C  \n",
       "17       560.0       592.0       591.1       695.1            540.0    G  "
      ]
     },
     "execution_count": 10,
     "metadata": {},
     "output_type": "execute_result"
    }
   ],
   "source": [
    "estudo1_microdados.head()"
   ]
  },
  {
   "cell_type": "code",
   "execution_count": 11,
   "metadata": {},
   "outputs": [
    {
     "data": {
      "text/plain": [
       "NU_INSCRICAO        0\n",
       "SG_UF_RESIDENCIA    0\n",
       "NU_IDADE            0\n",
       "TP_SEXO             0\n",
       "TP_COR_RACA         0\n",
       "TP_ST_CONCLUSAO     0\n",
       "TP_ANO_CONCLUIU     0\n",
       "TP_ESCOLA           0\n",
       "TP_ENSINO           0\n",
       "IN_TREINEIRO        0\n",
       "NU_NOTA_CN          0\n",
       "NU_NOTA_CH          0\n",
       "NU_NOTA_LC          0\n",
       "NU_NOTA_MT          0\n",
       "NU_NOTA_REDACAO     0\n",
       "Q006                0\n",
       "dtype: int64"
      ]
     },
     "execution_count": 11,
     "metadata": {},
     "output_type": "execute_result"
    }
   ],
   "source": [
    "estudo1_microdados.isnull().sum()"
   ]
  },
  {
   "cell_type": "code",
   "execution_count": 12,
   "metadata": {},
   "outputs": [
    {
     "data": {
      "text/html": [
       "<div>\n",
       "<style scoped>\n",
       "    .dataframe tbody tr th:only-of-type {\n",
       "        vertical-align: middle;\n",
       "    }\n",
       "\n",
       "    .dataframe tbody tr th {\n",
       "        vertical-align: top;\n",
       "    }\n",
       "\n",
       "    .dataframe thead th {\n",
       "        text-align: right;\n",
       "    }\n",
       "</style>\n",
       "<table border=\"1\" class=\"dataframe\">\n",
       "  <thead>\n",
       "    <tr style=\"text-align: right;\">\n",
       "      <th></th>\n",
       "      <th>NU_INSCRICAO</th>\n",
       "      <th>SG_UF_RESIDENCIA</th>\n",
       "      <th>NU_IDADE</th>\n",
       "      <th>TP_SEXO</th>\n",
       "      <th>TP_COR_RACA</th>\n",
       "      <th>TP_ST_CONCLUSAO</th>\n",
       "      <th>TP_ANO_CONCLUIU</th>\n",
       "      <th>TP_ESCOLA</th>\n",
       "      <th>TP_ENSINO</th>\n",
       "      <th>IN_TREINEIRO</th>\n",
       "      <th>NU_NOTA_CN</th>\n",
       "      <th>NU_NOTA_CH</th>\n",
       "      <th>NU_NOTA_LC</th>\n",
       "      <th>NU_NOTA_MT</th>\n",
       "      <th>NU_NOTA_REDACAO</th>\n",
       "      <th>Q006</th>\n",
       "    </tr>\n",
       "  </thead>\n",
       "  <tbody>\n",
       "    <tr>\n",
       "      <th>1</th>\n",
       "      <td>190001237802</td>\n",
       "      <td>MG</td>\n",
       "      <td>22.0</td>\n",
       "      <td>F</td>\n",
       "      <td>1</td>\n",
       "      <td>1</td>\n",
       "      <td>4</td>\n",
       "      <td>1</td>\n",
       "      <td>1.0</td>\n",
       "      <td>0</td>\n",
       "      <td>513.6</td>\n",
       "      <td>575.5</td>\n",
       "      <td>570.7</td>\n",
       "      <td>677.0</td>\n",
       "      <td>860.0</td>\n",
       "      <td>G</td>\n",
       "    </tr>\n",
       "    <tr>\n",
       "      <th>2</th>\n",
       "      <td>190001421548</td>\n",
       "      <td>BA</td>\n",
       "      <td>22.0</td>\n",
       "      <td>F</td>\n",
       "      <td>3</td>\n",
       "      <td>1</td>\n",
       "      <td>5</td>\n",
       "      <td>1</td>\n",
       "      <td>1.0</td>\n",
       "      <td>0</td>\n",
       "      <td>484.6</td>\n",
       "      <td>488.4</td>\n",
       "      <td>507.2</td>\n",
       "      <td>594.7</td>\n",
       "      <td>600.0</td>\n",
       "      <td>B</td>\n",
       "    </tr>\n",
       "    <tr>\n",
       "      <th>4</th>\n",
       "      <td>190001592266</td>\n",
       "      <td>SP</td>\n",
       "      <td>17.0</td>\n",
       "      <td>M</td>\n",
       "      <td>1</td>\n",
       "      <td>2</td>\n",
       "      <td>0</td>\n",
       "      <td>2</td>\n",
       "      <td>1.0</td>\n",
       "      <td>0</td>\n",
       "      <td>543.9</td>\n",
       "      <td>548.1</td>\n",
       "      <td>502.5</td>\n",
       "      <td>480.7</td>\n",
       "      <td>400.0</td>\n",
       "      <td>F</td>\n",
       "    </tr>\n",
       "    <tr>\n",
       "      <th>6</th>\n",
       "      <td>190001475147</td>\n",
       "      <td>RN</td>\n",
       "      <td>19.0</td>\n",
       "      <td>M</td>\n",
       "      <td>4</td>\n",
       "      <td>1</td>\n",
       "      <td>1</td>\n",
       "      <td>1</td>\n",
       "      <td>1.0</td>\n",
       "      <td>0</td>\n",
       "      <td>518.2</td>\n",
       "      <td>351.7</td>\n",
       "      <td>417.6</td>\n",
       "      <td>459.0</td>\n",
       "      <td>500.0</td>\n",
       "      <td>C</td>\n",
       "    </tr>\n",
       "    <tr>\n",
       "      <th>17</th>\n",
       "      <td>190001237805</td>\n",
       "      <td>MG</td>\n",
       "      <td>22.0</td>\n",
       "      <td>F</td>\n",
       "      <td>1</td>\n",
       "      <td>1</td>\n",
       "      <td>5</td>\n",
       "      <td>1</td>\n",
       "      <td>1.0</td>\n",
       "      <td>0</td>\n",
       "      <td>560.0</td>\n",
       "      <td>592.0</td>\n",
       "      <td>591.1</td>\n",
       "      <td>695.1</td>\n",
       "      <td>540.0</td>\n",
       "      <td>G</td>\n",
       "    </tr>\n",
       "  </tbody>\n",
       "</table>\n",
       "</div>"
      ],
      "text/plain": [
       "    NU_INSCRICAO SG_UF_RESIDENCIA  NU_IDADE TP_SEXO  TP_COR_RACA  \\\n",
       "1   190001237802               MG      22.0       F            1   \n",
       "2   190001421548               BA      22.0       F            3   \n",
       "4   190001592266               SP      17.0       M            1   \n",
       "6   190001475147               RN      19.0       M            4   \n",
       "17  190001237805               MG      22.0       F            1   \n",
       "\n",
       "    TP_ST_CONCLUSAO  TP_ANO_CONCLUIU  TP_ESCOLA  TP_ENSINO  IN_TREINEIRO  \\\n",
       "1                 1                4          1        1.0             0   \n",
       "2                 1                5          1        1.0             0   \n",
       "4                 2                0          2        1.0             0   \n",
       "6                 1                1          1        1.0             0   \n",
       "17                1                5          1        1.0             0   \n",
       "\n",
       "    NU_NOTA_CN  NU_NOTA_CH  NU_NOTA_LC  NU_NOTA_MT  NU_NOTA_REDACAO Q006  \n",
       "1        513.6       575.5       570.7       677.0            860.0    G  \n",
       "2        484.6       488.4       507.2       594.7            600.0    B  \n",
       "4        543.9       548.1       502.5       480.7            400.0    F  \n",
       "6        518.2       351.7       417.6       459.0            500.0    C  \n",
       "17       560.0       592.0       591.1       695.1            540.0    G  "
      ]
     },
     "execution_count": 12,
     "metadata": {},
     "output_type": "execute_result"
    }
   ],
   "source": [
    "estudo1_microdados.head()"
   ]
  },
  {
   "cell_type": "code",
   "execution_count": 13,
   "metadata": {},
   "outputs": [
    {
     "name": "stdout",
     "output_type": "stream",
     "text": [
      "<class 'pandas.core.frame.DataFrame'>\n",
      "Int64Index: 953878 entries, 1 to 2292865\n",
      "Data columns (total 16 columns):\n",
      " #   Column            Non-Null Count   Dtype  \n",
      "---  ------            --------------   -----  \n",
      " 0   NU_INSCRICAO      953878 non-null  int64  \n",
      " 1   SG_UF_RESIDENCIA  953878 non-null  object \n",
      " 2   NU_IDADE          953878 non-null  float64\n",
      " 3   TP_SEXO           953878 non-null  object \n",
      " 4   TP_COR_RACA       953878 non-null  int64  \n",
      " 5   TP_ST_CONCLUSAO   953878 non-null  int64  \n",
      " 6   TP_ANO_CONCLUIU   953878 non-null  int64  \n",
      " 7   TP_ESCOLA         953878 non-null  int64  \n",
      " 8   TP_ENSINO         953878 non-null  float64\n",
      " 9   IN_TREINEIRO      953878 non-null  int64  \n",
      " 10  NU_NOTA_CN        953878 non-null  float64\n",
      " 11  NU_NOTA_CH        953878 non-null  float64\n",
      " 12  NU_NOTA_LC        953878 non-null  float64\n",
      " 13  NU_NOTA_MT        953878 non-null  float64\n",
      " 14  NU_NOTA_REDACAO   953878 non-null  float64\n",
      " 15  Q006              953878 non-null  object \n",
      "dtypes: float64(7), int64(6), object(3)\n",
      "memory usage: 123.7+ MB\n"
     ]
    }
   ],
   "source": [
    "estudo1_microdados.info()"
   ]
  },
  {
   "cell_type": "code",
   "execution_count": 14,
   "metadata": {},
   "outputs": [],
   "source": [
    "enem_df = estudo1_microdados"
   ]
  },
  {
   "cell_type": "code",
   "execution_count": 15,
   "metadata": {},
   "outputs": [
    {
     "data": {
      "text/html": [
       "<div>\n",
       "<style scoped>\n",
       "    .dataframe tbody tr th:only-of-type {\n",
       "        vertical-align: middle;\n",
       "    }\n",
       "\n",
       "    .dataframe tbody tr th {\n",
       "        vertical-align: top;\n",
       "    }\n",
       "\n",
       "    .dataframe thead th {\n",
       "        text-align: right;\n",
       "    }\n",
       "</style>\n",
       "<table border=\"1\" class=\"dataframe\">\n",
       "  <thead>\n",
       "    <tr style=\"text-align: right;\">\n",
       "      <th></th>\n",
       "      <th>UF</th>\n",
       "      <th>TOTAL_PARTICIPANTS</th>\n",
       "    </tr>\n",
       "  </thead>\n",
       "  <tbody>\n",
       "    <tr>\n",
       "      <th>0</th>\n",
       "      <td>SP</td>\n",
       "      <td>148015</td>\n",
       "    </tr>\n",
       "    <tr>\n",
       "      <th>1</th>\n",
       "      <td>MG</td>\n",
       "      <td>96494</td>\n",
       "    </tr>\n",
       "    <tr>\n",
       "      <th>2</th>\n",
       "      <td>BA</td>\n",
       "      <td>81065</td>\n",
       "    </tr>\n",
       "    <tr>\n",
       "      <th>3</th>\n",
       "      <td>CE</td>\n",
       "      <td>65742</td>\n",
       "    </tr>\n",
       "    <tr>\n",
       "      <th>4</th>\n",
       "      <td>PA</td>\n",
       "      <td>58519</td>\n",
       "    </tr>\n",
       "  </tbody>\n",
       "</table>\n",
       "</div>"
      ],
      "text/plain": [
       "   UF  TOTAL_PARTICIPANTS\n",
       "0  SP              148015\n",
       "1  MG               96494\n",
       "2  BA               81065\n",
       "3  CE               65742\n",
       "4  PA               58519"
      ]
     },
     "execution_count": 15,
     "metadata": {},
     "output_type": "execute_result"
    }
   ],
   "source": [
    "# Para construção do gráfico relacionando total de participantes com os estados brasileiros\n",
    "candidados_por_estado = enem_df['SG_UF_RESIDENCIA'].value_counts().to_frame()\n",
    "candidados_por_estado.reset_index(inplace=True)\n",
    "candidados_por_estado = candidados_por_estado.rename(columns = {'index':'UF','SG_UF_RESIDENCIA':'TOTAL_PARTICIPANTS'})\n",
    "candidados_por_estado.head()"
   ]
  },
  {
   "cell_type": "code",
   "execution_count": 16,
   "metadata": {},
   "outputs": [
    {
     "data": {
      "image/png": "[encoded data removed]",
      "text/plain": [
       "<Figure size 1440x720 with 1 Axes>"
      ]
     },
     "metadata": {
      "needs_background": "light"
     },
     "output_type": "display_data"
    }
   ],
   "source": [
    "# Criação de um gráfico de barras para visualização da quantidade de inscritos por estado\n",
    "num_inscritos = candidados_por_estado['TOTAL_PARTICIPANTS']\n",
    "estado = candidados_por_estado['UF']\n",
    "plt.figure(figsize = (20,10))\n",
    "plt.bar(estado, num_inscritos, width= 1, align='center', color='g', edgecolor = 'black', linewidth = '3')\n",
    "plt.xticks(estado)\n",
    "i = 1.0\n",
    "j = 2000\n",
    "# Annotating the bar plot with the values (total death count)\n",
    "for i in range(len(estado)):\n",
    "    plt.annotate(num_inscritos[i], (-0.1 + i, num_inscritos[i] + j))\n",
    "plt.ylabel('Número de inscritos')\n",
    "plt.xlabel('Estado')\n",
    "plt.title('Número de inscritos no Enem por estado brasileiro')\n",
    "plt.show()"
   ]
  },
  {
   "cell_type": "markdown",
   "metadata": {},
   "source": [
    "Pelo gráfico de barras acima, pode-se observar que a maioria dos candidados inscritos no Enem 2019 foram dos estados de São Paulo, Minas Gerais e Bahia, logo, os dados correspondentes a esses três estados influenciam prodominantemente nos resultados das análises."
   ]
  },
  {
   "cell_type": "markdown",
   "metadata": {},
   "source": [
    "Estudo baseado nas notas das provas"
   ]
  },
  {
   "cell_type": "code",
   "execution_count": 17,
   "metadata": {},
   "outputs": [],
   "source": [
    "estudo2_microdados = pd.DataFrame(enem_df, columns = ['NU_INSCRICAO', 'SG_UF_RESIDENCIA','TP_ESCOLA', 'NU_NOTA_CN', 'NU_NOTA_CH', 'NU_NOTA_LC',\n",
    "       'NU_NOTA_MT', 'NU_NOTA_REDACAO', 'Q006' ])"
   ]
  },
  {
   "cell_type": "code",
   "execution_count": 18,
   "metadata": {},
   "outputs": [
    {
     "data": {
      "text/html": [
       "<div>\n",
       "<style scoped>\n",
       "    .dataframe tbody tr th:only-of-type {\n",
       "        vertical-align: middle;\n",
       "    }\n",
       "\n",
       "    .dataframe tbody tr th {\n",
       "        vertical-align: top;\n",
       "    }\n",
       "\n",
       "    .dataframe thead th {\n",
       "        text-align: right;\n",
       "    }\n",
       "</style>\n",
       "<table border=\"1\" class=\"dataframe\">\n",
       "  <thead>\n",
       "    <tr style=\"text-align: right;\">\n",
       "      <th></th>\n",
       "      <th>NU_INSCRICAO</th>\n",
       "      <th>SG_UF_RESIDENCIA</th>\n",
       "      <th>TP_ESCOLA</th>\n",
       "      <th>NU_NOTA_CN</th>\n",
       "      <th>NU_NOTA_CH</th>\n",
       "      <th>NU_NOTA_LC</th>\n",
       "      <th>NU_NOTA_MT</th>\n",
       "      <th>NU_NOTA_REDACAO</th>\n",
       "      <th>Q006</th>\n",
       "    </tr>\n",
       "  </thead>\n",
       "  <tbody>\n",
       "    <tr>\n",
       "      <th>1</th>\n",
       "      <td>190001237802</td>\n",
       "      <td>MG</td>\n",
       "      <td>1</td>\n",
       "      <td>513.6</td>\n",
       "      <td>575.5</td>\n",
       "      <td>570.7</td>\n",
       "      <td>677.0</td>\n",
       "      <td>860.0</td>\n",
       "      <td>G</td>\n",
       "    </tr>\n",
       "    <tr>\n",
       "      <th>2</th>\n",
       "      <td>190001421548</td>\n",
       "      <td>BA</td>\n",
       "      <td>1</td>\n",
       "      <td>484.6</td>\n",
       "      <td>488.4</td>\n",
       "      <td>507.2</td>\n",
       "      <td>594.7</td>\n",
       "      <td>600.0</td>\n",
       "      <td>B</td>\n",
       "    </tr>\n",
       "    <tr>\n",
       "      <th>4</th>\n",
       "      <td>190001592266</td>\n",
       "      <td>SP</td>\n",
       "      <td>2</td>\n",
       "      <td>543.9</td>\n",
       "      <td>548.1</td>\n",
       "      <td>502.5</td>\n",
       "      <td>480.7</td>\n",
       "      <td>400.0</td>\n",
       "      <td>F</td>\n",
       "    </tr>\n",
       "    <tr>\n",
       "      <th>6</th>\n",
       "      <td>190001475147</td>\n",
       "      <td>RN</td>\n",
       "      <td>1</td>\n",
       "      <td>518.2</td>\n",
       "      <td>351.7</td>\n",
       "      <td>417.6</td>\n",
       "      <td>459.0</td>\n",
       "      <td>500.0</td>\n",
       "      <td>C</td>\n",
       "    </tr>\n",
       "    <tr>\n",
       "      <th>17</th>\n",
       "      <td>190001237805</td>\n",
       "      <td>MG</td>\n",
       "      <td>1</td>\n",
       "      <td>560.0</td>\n",
       "      <td>592.0</td>\n",
       "      <td>591.1</td>\n",
       "      <td>695.1</td>\n",
       "      <td>540.0</td>\n",
       "      <td>G</td>\n",
       "    </tr>\n",
       "  </tbody>\n",
       "</table>\n",
       "</div>"
      ],
      "text/plain": [
       "    NU_INSCRICAO SG_UF_RESIDENCIA  TP_ESCOLA  NU_NOTA_CN  NU_NOTA_CH  \\\n",
       "1   190001237802               MG          1       513.6       575.5   \n",
       "2   190001421548               BA          1       484.6       488.4   \n",
       "4   190001592266               SP          2       543.9       548.1   \n",
       "6   190001475147               RN          1       518.2       351.7   \n",
       "17  190001237805               MG          1       560.0       592.0   \n",
       "\n",
       "    NU_NOTA_LC  NU_NOTA_MT  NU_NOTA_REDACAO Q006  \n",
       "1        570.7       677.0            860.0    G  \n",
       "2        507.2       594.7            600.0    B  \n",
       "4        502.5       480.7            400.0    F  \n",
       "6        417.6       459.0            500.0    C  \n",
       "17       591.1       695.1            540.0    G  "
      ]
     },
     "execution_count": 18,
     "metadata": {},
     "output_type": "execute_result"
    }
   ],
   "source": [
    "estudo2_microdados.head()"
   ]
  },
  {
   "cell_type": "code",
   "execution_count": 19,
   "metadata": {},
   "outputs": [],
   "source": [
    "estudo2_microdados.rename(columns={'NU_NOTA_CN': 'CIENCIAS_NATUREZA', 'NU_NOTA_CH': 'CIENCIAS_HUMANAS', 'NU_NOTA_LC': 'LINGUAGENS_CODIGOS', 'NU_NOTA_MT': 'MATEMATICA','NU_NOTA_REDACAO': 'REDACAO','Q006': 'RENDA',\n",
    "                        },inplace=True)"
   ]
  },
  {
   "cell_type": "code",
   "execution_count": 20,
   "metadata": {},
   "outputs": [
    {
     "data": {
      "text/html": [
       "<div>\n",
       "<style scoped>\n",
       "    .dataframe tbody tr th:only-of-type {\n",
       "        vertical-align: middle;\n",
       "    }\n",
       "\n",
       "    .dataframe tbody tr th {\n",
       "        vertical-align: top;\n",
       "    }\n",
       "\n",
       "    .dataframe thead th {\n",
       "        text-align: right;\n",
       "    }\n",
       "</style>\n",
       "<table border=\"1\" class=\"dataframe\">\n",
       "  <thead>\n",
       "    <tr style=\"text-align: right;\">\n",
       "      <th></th>\n",
       "      <th>NU_INSCRICAO</th>\n",
       "      <th>SG_UF_RESIDENCIA</th>\n",
       "      <th>TP_ESCOLA</th>\n",
       "      <th>CIENCIAS_NATUREZA</th>\n",
       "      <th>CIENCIAS_HUMANAS</th>\n",
       "      <th>LINGUAGENS_CODIGOS</th>\n",
       "      <th>MATEMATICA</th>\n",
       "      <th>REDACAO</th>\n",
       "      <th>RENDA</th>\n",
       "    </tr>\n",
       "  </thead>\n",
       "  <tbody>\n",
       "    <tr>\n",
       "      <th>1</th>\n",
       "      <td>190001237802</td>\n",
       "      <td>MG</td>\n",
       "      <td>1</td>\n",
       "      <td>513.6</td>\n",
       "      <td>575.5</td>\n",
       "      <td>570.7</td>\n",
       "      <td>677.0</td>\n",
       "      <td>860.0</td>\n",
       "      <td>G</td>\n",
       "    </tr>\n",
       "    <tr>\n",
       "      <th>2</th>\n",
       "      <td>190001421548</td>\n",
       "      <td>BA</td>\n",
       "      <td>1</td>\n",
       "      <td>484.6</td>\n",
       "      <td>488.4</td>\n",
       "      <td>507.2</td>\n",
       "      <td>594.7</td>\n",
       "      <td>600.0</td>\n",
       "      <td>B</td>\n",
       "    </tr>\n",
       "    <tr>\n",
       "      <th>4</th>\n",
       "      <td>190001592266</td>\n",
       "      <td>SP</td>\n",
       "      <td>2</td>\n",
       "      <td>543.9</td>\n",
       "      <td>548.1</td>\n",
       "      <td>502.5</td>\n",
       "      <td>480.7</td>\n",
       "      <td>400.0</td>\n",
       "      <td>F</td>\n",
       "    </tr>\n",
       "    <tr>\n",
       "      <th>6</th>\n",
       "      <td>190001475147</td>\n",
       "      <td>RN</td>\n",
       "      <td>1</td>\n",
       "      <td>518.2</td>\n",
       "      <td>351.7</td>\n",
       "      <td>417.6</td>\n",
       "      <td>459.0</td>\n",
       "      <td>500.0</td>\n",
       "      <td>C</td>\n",
       "    </tr>\n",
       "    <tr>\n",
       "      <th>17</th>\n",
       "      <td>190001237805</td>\n",
       "      <td>MG</td>\n",
       "      <td>1</td>\n",
       "      <td>560.0</td>\n",
       "      <td>592.0</td>\n",
       "      <td>591.1</td>\n",
       "      <td>695.1</td>\n",
       "      <td>540.0</td>\n",
       "      <td>G</td>\n",
       "    </tr>\n",
       "    <tr>\n",
       "      <th>18</th>\n",
       "      <td>190001421552</td>\n",
       "      <td>BA</td>\n",
       "      <td>2</td>\n",
       "      <td>567.3</td>\n",
       "      <td>584.1</td>\n",
       "      <td>595.8</td>\n",
       "      <td>704.5</td>\n",
       "      <td>620.0</td>\n",
       "      <td>B</td>\n",
       "    </tr>\n",
       "    <tr>\n",
       "      <th>20</th>\n",
       "      <td>190001237806</td>\n",
       "      <td>MG</td>\n",
       "      <td>1</td>\n",
       "      <td>504.2</td>\n",
       "      <td>554.6</td>\n",
       "      <td>519.7</td>\n",
       "      <td>462.4</td>\n",
       "      <td>580.0</td>\n",
       "      <td>C</td>\n",
       "    </tr>\n",
       "    <tr>\n",
       "      <th>25</th>\n",
       "      <td>190001480443</td>\n",
       "      <td>PB</td>\n",
       "      <td>2</td>\n",
       "      <td>373.2</td>\n",
       "      <td>409.6</td>\n",
       "      <td>469.5</td>\n",
       "      <td>379.1</td>\n",
       "      <td>480.0</td>\n",
       "      <td>C</td>\n",
       "    </tr>\n",
       "    <tr>\n",
       "      <th>27</th>\n",
       "      <td>190002037440</td>\n",
       "      <td>DF</td>\n",
       "      <td>2</td>\n",
       "      <td>389.7</td>\n",
       "      <td>431.1</td>\n",
       "      <td>482.0</td>\n",
       "      <td>529.7</td>\n",
       "      <td>560.0</td>\n",
       "      <td>B</td>\n",
       "    </tr>\n",
       "    <tr>\n",
       "      <th>31</th>\n",
       "      <td>190001042835</td>\n",
       "      <td>PA</td>\n",
       "      <td>1</td>\n",
       "      <td>463.9</td>\n",
       "      <td>559.7</td>\n",
       "      <td>542.1</td>\n",
       "      <td>377.9</td>\n",
       "      <td>740.0</td>\n",
       "      <td>B</td>\n",
       "    </tr>\n",
       "  </tbody>\n",
       "</table>\n",
       "</div>"
      ],
      "text/plain": [
       "    NU_INSCRICAO SG_UF_RESIDENCIA  TP_ESCOLA  CIENCIAS_NATUREZA  \\\n",
       "1   190001237802               MG          1              513.6   \n",
       "2   190001421548               BA          1              484.6   \n",
       "4   190001592266               SP          2              543.9   \n",
       "6   190001475147               RN          1              518.2   \n",
       "17  190001237805               MG          1              560.0   \n",
       "18  190001421552               BA          2              567.3   \n",
       "20  190001237806               MG          1              504.2   \n",
       "25  190001480443               PB          2              373.2   \n",
       "27  190002037440               DF          2              389.7   \n",
       "31  190001042835               PA          1              463.9   \n",
       "\n",
       "    CIENCIAS_HUMANAS  LINGUAGENS_CODIGOS  MATEMATICA  REDACAO RENDA  \n",
       "1              575.5               570.7       677.0    860.0     G  \n",
       "2              488.4               507.2       594.7    600.0     B  \n",
       "4              548.1               502.5       480.7    400.0     F  \n",
       "6              351.7               417.6       459.0    500.0     C  \n",
       "17             592.0               591.1       695.1    540.0     G  \n",
       "18             584.1               595.8       704.5    620.0     B  \n",
       "20             554.6               519.7       462.4    580.0     C  \n",
       "25             409.6               469.5       379.1    480.0     C  \n",
       "27             431.1               482.0       529.7    560.0     B  \n",
       "31             559.7               542.1       377.9    740.0     B  "
      ]
     },
     "execution_count": 20,
     "metadata": {},
     "output_type": "execute_result"
    }
   ],
   "source": [
    "estudo2_microdados.head(10)"
   ]
  },
  {
   "cell_type": "code",
   "execution_count": 21,
   "metadata": {},
   "outputs": [],
   "source": [
    "notas_enem = pd.DataFrame(estudo2_microdados, columns = ['CIENCIAS_NATUREZA', 'CIENCIAS_HUMANAS', 'LINGUAGENS_CODIGOS', 'MATEMATICA', 'REDACAO'])"
   ]
  },
  {
   "cell_type": "code",
   "execution_count": 22,
   "metadata": {},
   "outputs": [
    {
     "data": {
      "text/html": [
       "<div>\n",
       "<style scoped>\n",
       "    .dataframe tbody tr th:only-of-type {\n",
       "        vertical-align: middle;\n",
       "    }\n",
       "\n",
       "    .dataframe tbody tr th {\n",
       "        vertical-align: top;\n",
       "    }\n",
       "\n",
       "    .dataframe thead th {\n",
       "        text-align: right;\n",
       "    }\n",
       "</style>\n",
       "<table border=\"1\" class=\"dataframe\">\n",
       "  <thead>\n",
       "    <tr style=\"text-align: right;\">\n",
       "      <th></th>\n",
       "      <th>CIENCIAS_NATUREZA</th>\n",
       "      <th>CIENCIAS_HUMANAS</th>\n",
       "      <th>LINGUAGENS_CODIGOS</th>\n",
       "      <th>MATEMATICA</th>\n",
       "      <th>REDACAO</th>\n",
       "    </tr>\n",
       "  </thead>\n",
       "  <tbody>\n",
       "    <tr>\n",
       "      <th>1</th>\n",
       "      <td>513.6</td>\n",
       "      <td>575.5</td>\n",
       "      <td>570.7</td>\n",
       "      <td>677.0</td>\n",
       "      <td>860.0</td>\n",
       "    </tr>\n",
       "    <tr>\n",
       "      <th>2</th>\n",
       "      <td>484.6</td>\n",
       "      <td>488.4</td>\n",
       "      <td>507.2</td>\n",
       "      <td>594.7</td>\n",
       "      <td>600.0</td>\n",
       "    </tr>\n",
       "    <tr>\n",
       "      <th>4</th>\n",
       "      <td>543.9</td>\n",
       "      <td>548.1</td>\n",
       "      <td>502.5</td>\n",
       "      <td>480.7</td>\n",
       "      <td>400.0</td>\n",
       "    </tr>\n",
       "    <tr>\n",
       "      <th>6</th>\n",
       "      <td>518.2</td>\n",
       "      <td>351.7</td>\n",
       "      <td>417.6</td>\n",
       "      <td>459.0</td>\n",
       "      <td>500.0</td>\n",
       "    </tr>\n",
       "    <tr>\n",
       "      <th>17</th>\n",
       "      <td>560.0</td>\n",
       "      <td>592.0</td>\n",
       "      <td>591.1</td>\n",
       "      <td>695.1</td>\n",
       "      <td>540.0</td>\n",
       "    </tr>\n",
       "  </tbody>\n",
       "</table>\n",
       "</div>"
      ],
      "text/plain": [
       "    CIENCIAS_NATUREZA  CIENCIAS_HUMANAS  LINGUAGENS_CODIGOS  MATEMATICA  \\\n",
       "1               513.6             575.5               570.7       677.0   \n",
       "2               484.6             488.4               507.2       594.7   \n",
       "4               543.9             548.1               502.5       480.7   \n",
       "6               518.2             351.7               417.6       459.0   \n",
       "17              560.0             592.0               591.1       695.1   \n",
       "\n",
       "    REDACAO  \n",
       "1     860.0  \n",
       "2     600.0  \n",
       "4     400.0  \n",
       "6     500.0  \n",
       "17    540.0  "
      ]
     },
     "execution_count": 22,
     "metadata": {},
     "output_type": "execute_result"
    }
   ],
   "source": [
    "notas_enem.head()"
   ]
  },
  {
   "cell_type": "code",
   "execution_count": 23,
   "metadata": {},
   "outputs": [
    {
     "data": {
      "text/html": [
       "<div>\n",
       "<style scoped>\n",
       "    .dataframe tbody tr th:only-of-type {\n",
       "        vertical-align: middle;\n",
       "    }\n",
       "\n",
       "    .dataframe tbody tr th {\n",
       "        vertical-align: top;\n",
       "    }\n",
       "\n",
       "    .dataframe thead th {\n",
       "        text-align: right;\n",
       "    }\n",
       "</style>\n",
       "<table border=\"1\" class=\"dataframe\">\n",
       "  <thead>\n",
       "    <tr style=\"text-align: right;\">\n",
       "      <th></th>\n",
       "      <th>CIENCIAS_NATUREZA</th>\n",
       "      <th>CIENCIAS_HUMANAS</th>\n",
       "      <th>LINGUAGENS_CODIGOS</th>\n",
       "      <th>MATEMATICA</th>\n",
       "      <th>REDACAO</th>\n",
       "    </tr>\n",
       "  </thead>\n",
       "  <tbody>\n",
       "    <tr>\n",
       "      <th>count</th>\n",
       "      <td>953878.000000</td>\n",
       "      <td>953878.000000</td>\n",
       "      <td>953878.000000</td>\n",
       "      <td>953878.000000</td>\n",
       "      <td>953878.000000</td>\n",
       "    </tr>\n",
       "    <tr>\n",
       "      <th>mean</th>\n",
       "      <td>471.154960</td>\n",
       "      <td>504.111415</td>\n",
       "      <td>518.310507</td>\n",
       "      <td>514.425074</td>\n",
       "      <td>580.692017</td>\n",
       "    </tr>\n",
       "    <tr>\n",
       "      <th>std</th>\n",
       "      <td>72.233556</td>\n",
       "      <td>77.908424</td>\n",
       "      <td>60.969581</td>\n",
       "      <td>102.992083</td>\n",
       "      <td>177.619281</td>\n",
       "    </tr>\n",
       "    <tr>\n",
       "      <th>min</th>\n",
       "      <td>0.000000</td>\n",
       "      <td>0.000000</td>\n",
       "      <td>0.000000</td>\n",
       "      <td>0.000000</td>\n",
       "      <td>0.000000</td>\n",
       "    </tr>\n",
       "    <tr>\n",
       "      <th>25%</th>\n",
       "      <td>414.500000</td>\n",
       "      <td>447.400000</td>\n",
       "      <td>482.600000</td>\n",
       "      <td>432.500000</td>\n",
       "      <td>500.000000</td>\n",
       "    </tr>\n",
       "    <tr>\n",
       "      <th>50%</th>\n",
       "      <td>463.700000</td>\n",
       "      <td>507.600000</td>\n",
       "      <td>523.700000</td>\n",
       "      <td>493.200000</td>\n",
       "      <td>580.000000</td>\n",
       "    </tr>\n",
       "    <tr>\n",
       "      <th>75%</th>\n",
       "      <td>523.100000</td>\n",
       "      <td>560.900000</td>\n",
       "      <td>561.000000</td>\n",
       "      <td>582.600000</td>\n",
       "      <td>680.000000</td>\n",
       "    </tr>\n",
       "    <tr>\n",
       "      <th>max</th>\n",
       "      <td>847.800000</td>\n",
       "      <td>835.100000</td>\n",
       "      <td>801.700000</td>\n",
       "      <td>985.000000</td>\n",
       "      <td>1000.000000</td>\n",
       "    </tr>\n",
       "  </tbody>\n",
       "</table>\n",
       "</div>"
      ],
      "text/plain": [
       "       CIENCIAS_NATUREZA  CIENCIAS_HUMANAS  LINGUAGENS_CODIGOS     MATEMATICA  \\\n",
       "count      953878.000000     953878.000000       953878.000000  953878.000000   \n",
       "mean          471.154960        504.111415          518.310507     514.425074   \n",
       "std            72.233556         77.908424           60.969581     102.992083   \n",
       "min             0.000000          0.000000            0.000000       0.000000   \n",
       "25%           414.500000        447.400000          482.600000     432.500000   \n",
       "50%           463.700000        507.600000          523.700000     493.200000   \n",
       "75%           523.100000        560.900000          561.000000     582.600000   \n",
       "max           847.800000        835.100000          801.700000     985.000000   \n",
       "\n",
       "             REDACAO  \n",
       "count  953878.000000  \n",
       "mean      580.692017  \n",
       "std       177.619281  \n",
       "min         0.000000  \n",
       "25%       500.000000  \n",
       "50%       580.000000  \n",
       "75%       680.000000  \n",
       "max      1000.000000  "
      ]
     },
     "execution_count": 23,
     "metadata": {},
     "output_type": "execute_result"
    }
   ],
   "source": [
    "notas_enem.describe()"
   ]
  },
  {
   "cell_type": "markdown",
   "metadata": {},
   "source": [
    "Pelos dados estatisticos apresentados acima, pode-se verificar que a única prova que atingiu a nota máxima (1000) foi a de redação, porém existiram pontuações próximas a máxima na prova de Matemática, que foi 985. Além disso, pode-se observar que a maior média entre as notas também é para a prova de redação, enquanto que a menor média ficou na prova de Ciências da Natureza. "
   ]
  },
  {
   "cell_type": "code",
   "execution_count": 24,
   "metadata": {},
   "outputs": [
    {
     "data": {
      "image/png": "[encoded data removed]",
      "text/plain": [
       "<Figure size 432x288 with 1 Axes>"
      ]
     },
     "metadata": {
      "needs_background": "light"
     },
     "output_type": "display_data"
    },
    {
     "data": {
      "image/png": "[encoded data removed]",
      "text/plain": [
       "<Figure size 432x288 with 1 Axes>"
      ]
     },
     "metadata": {
      "needs_background": "light"
     },
     "output_type": "display_data"
    },
    {
     "data": {
      "image/png": "[encoded data removed]",
      "text/plain": [
       "<Figure size 432x288 with 1 Axes>"
      ]
     },
     "metadata": {
      "needs_background": "light"
     },
     "output_type": "display_data"
    },
    {
     "data": {
      "image/png": "[encoded data removed]",
      "text/plain": [
       "<Figure size 432x288 with 1 Axes>"
      ]
     },
     "metadata": {
      "needs_background": "light"
     },
     "output_type": "display_data"
    },
    {
     "data": {
      "image/png": "[encoded data removed]",
      "text/plain": [
       "<Figure size 432x288 with 1 Axes>"
      ]
     },
     "metadata": {
      "needs_background": "light"
     },
     "output_type": "display_data"
    }
   ],
   "source": [
    "plt.subplot(1,1,1)\n",
    "plt.hist(notas_enem['CIENCIAS_NATUREZA'], facecolor='black')\n",
    "plt.title('Ciências da natureza')\n",
    "plt.xlim(0, 1000)\n",
    "plt.ylim(0, 400000)\n",
    "plt.grid(True)\n",
    "plt.show()\n",
    "plt.subplot(1,1,1)\n",
    "plt.hist(notas_enem['CIENCIAS_HUMANAS'], facecolor='g')\n",
    "plt.title('Ciências Humanas')\n",
    "plt.xlim(0, 1000)\n",
    "plt.ylim(0, 400000)\n",
    "plt.grid(True)\n",
    "plt.show()\n",
    "plt.subplot(1,1,1)\n",
    "plt.hist(notas_enem['LINGUAGENS_CODIGOS'], facecolor='b')\n",
    "plt.title('Linguagens e Códigos')\n",
    "plt.xlim(0, 1000)\n",
    "plt.ylim(0, 500000)\n",
    "plt.grid(True)\n",
    "plt.show()\n",
    "plt.subplot(1,1,1)\n",
    "plt.hist(notas_enem['MATEMATICA'], facecolor='r')\n",
    "plt.title('Matemática')\n",
    "plt.xlim(0, 1000)\n",
    "plt.ylim(0, 400000)\n",
    "plt.grid(True)\n",
    "plt.show()\n",
    "plt.subplot(1,1,1)\n",
    "plt.hist(notas_enem['REDACAO'], facecolor='cyan')\n",
    "plt.title('Redação')\n",
    "plt.xlim(0, 1000)\n",
    "plt.ylim(0, 300000)\n",
    "plt.grid(True)\n",
    "plt.show()"
   ]
  },
  {
   "cell_type": "markdown",
   "metadata": {},
   "source": [
    "De um modo geral, o histograma acima nos mostra a distribuição das notas das 5 provas aplicadas no Enem de 2019 em relação aos candidatos que as fizeram. Quanto mais a direita o gráfico estiver posicionado, melhores são as pontuações dos participantes em cada uma das provas. Existe uma tendêndencia nos três primeiros gráficos em relação as notas medianas, entre o intervalo de 400 a 600. Já os dois ultimos gráficos, que correspondem as provas de Matemática e de Redação, as notas estão posicionadas em sua maioria à direita do gráfico, após o valor de 400 de pontuação na prova."
   ]
  },
  {
   "cell_type": "markdown",
   "metadata": {},
   "source": [
    "Comparativo entre as notas das provas do Enem em relação aos estados dos participantes"
   ]
  },
  {
   "cell_type": "code",
   "execution_count": 25,
   "metadata": {},
   "outputs": [
    {
     "data": {
      "text/html": [
       "<div>\n",
       "<style scoped>\n",
       "    .dataframe tbody tr th:only-of-type {\n",
       "        vertical-align: middle;\n",
       "    }\n",
       "\n",
       "    .dataframe tbody tr th {\n",
       "        vertical-align: top;\n",
       "    }\n",
       "\n",
       "    .dataframe thead th {\n",
       "        text-align: right;\n",
       "    }\n",
       "</style>\n",
       "<table border=\"1\" class=\"dataframe\">\n",
       "  <thead>\n",
       "    <tr style=\"text-align: right;\">\n",
       "      <th></th>\n",
       "      <th>NU_INSCRICAO</th>\n",
       "      <th>SG_UF_RESIDENCIA</th>\n",
       "      <th>TP_ESCOLA</th>\n",
       "      <th>CIENCIAS_NATUREZA</th>\n",
       "      <th>CIENCIAS_HUMANAS</th>\n",
       "      <th>LINGUAGENS_CODIGOS</th>\n",
       "      <th>MATEMATICA</th>\n",
       "      <th>REDACAO</th>\n",
       "      <th>RENDA</th>\n",
       "    </tr>\n",
       "  </thead>\n",
       "  <tbody>\n",
       "    <tr>\n",
       "      <th>1</th>\n",
       "      <td>190001237802</td>\n",
       "      <td>MG</td>\n",
       "      <td>1</td>\n",
       "      <td>513.6</td>\n",
       "      <td>575.5</td>\n",
       "      <td>570.7</td>\n",
       "      <td>677.0</td>\n",
       "      <td>860.0</td>\n",
       "      <td>G</td>\n",
       "    </tr>\n",
       "    <tr>\n",
       "      <th>2</th>\n",
       "      <td>190001421548</td>\n",
       "      <td>BA</td>\n",
       "      <td>1</td>\n",
       "      <td>484.6</td>\n",
       "      <td>488.4</td>\n",
       "      <td>507.2</td>\n",
       "      <td>594.7</td>\n",
       "      <td>600.0</td>\n",
       "      <td>B</td>\n",
       "    </tr>\n",
       "    <tr>\n",
       "      <th>4</th>\n",
       "      <td>190001592266</td>\n",
       "      <td>SP</td>\n",
       "      <td>2</td>\n",
       "      <td>543.9</td>\n",
       "      <td>548.1</td>\n",
       "      <td>502.5</td>\n",
       "      <td>480.7</td>\n",
       "      <td>400.0</td>\n",
       "      <td>F</td>\n",
       "    </tr>\n",
       "    <tr>\n",
       "      <th>6</th>\n",
       "      <td>190001475147</td>\n",
       "      <td>RN</td>\n",
       "      <td>1</td>\n",
       "      <td>518.2</td>\n",
       "      <td>351.7</td>\n",
       "      <td>417.6</td>\n",
       "      <td>459.0</td>\n",
       "      <td>500.0</td>\n",
       "      <td>C</td>\n",
       "    </tr>\n",
       "    <tr>\n",
       "      <th>17</th>\n",
       "      <td>190001237805</td>\n",
       "      <td>MG</td>\n",
       "      <td>1</td>\n",
       "      <td>560.0</td>\n",
       "      <td>592.0</td>\n",
       "      <td>591.1</td>\n",
       "      <td>695.1</td>\n",
       "      <td>540.0</td>\n",
       "      <td>G</td>\n",
       "    </tr>\n",
       "    <tr>\n",
       "      <th>18</th>\n",
       "      <td>190001421552</td>\n",
       "      <td>BA</td>\n",
       "      <td>2</td>\n",
       "      <td>567.3</td>\n",
       "      <td>584.1</td>\n",
       "      <td>595.8</td>\n",
       "      <td>704.5</td>\n",
       "      <td>620.0</td>\n",
       "      <td>B</td>\n",
       "    </tr>\n",
       "    <tr>\n",
       "      <th>20</th>\n",
       "      <td>190001237806</td>\n",
       "      <td>MG</td>\n",
       "      <td>1</td>\n",
       "      <td>504.2</td>\n",
       "      <td>554.6</td>\n",
       "      <td>519.7</td>\n",
       "      <td>462.4</td>\n",
       "      <td>580.0</td>\n",
       "      <td>C</td>\n",
       "    </tr>\n",
       "    <tr>\n",
       "      <th>25</th>\n",
       "      <td>190001480443</td>\n",
       "      <td>PB</td>\n",
       "      <td>2</td>\n",
       "      <td>373.2</td>\n",
       "      <td>409.6</td>\n",
       "      <td>469.5</td>\n",
       "      <td>379.1</td>\n",
       "      <td>480.0</td>\n",
       "      <td>C</td>\n",
       "    </tr>\n",
       "    <tr>\n",
       "      <th>27</th>\n",
       "      <td>190002037440</td>\n",
       "      <td>DF</td>\n",
       "      <td>2</td>\n",
       "      <td>389.7</td>\n",
       "      <td>431.1</td>\n",
       "      <td>482.0</td>\n",
       "      <td>529.7</td>\n",
       "      <td>560.0</td>\n",
       "      <td>B</td>\n",
       "    </tr>\n",
       "    <tr>\n",
       "      <th>31</th>\n",
       "      <td>190001042835</td>\n",
       "      <td>PA</td>\n",
       "      <td>1</td>\n",
       "      <td>463.9</td>\n",
       "      <td>559.7</td>\n",
       "      <td>542.1</td>\n",
       "      <td>377.9</td>\n",
       "      <td>740.0</td>\n",
       "      <td>B</td>\n",
       "    </tr>\n",
       "  </tbody>\n",
       "</table>\n",
       "</div>"
      ],
      "text/plain": [
       "    NU_INSCRICAO SG_UF_RESIDENCIA  TP_ESCOLA  CIENCIAS_NATUREZA  \\\n",
       "1   190001237802               MG          1              513.6   \n",
       "2   190001421548               BA          1              484.6   \n",
       "4   190001592266               SP          2              543.9   \n",
       "6   190001475147               RN          1              518.2   \n",
       "17  190001237805               MG          1              560.0   \n",
       "18  190001421552               BA          2              567.3   \n",
       "20  190001237806               MG          1              504.2   \n",
       "25  190001480443               PB          2              373.2   \n",
       "27  190002037440               DF          2              389.7   \n",
       "31  190001042835               PA          1              463.9   \n",
       "\n",
       "    CIENCIAS_HUMANAS  LINGUAGENS_CODIGOS  MATEMATICA  REDACAO RENDA  \n",
       "1              575.5               570.7       677.0    860.0     G  \n",
       "2              488.4               507.2       594.7    600.0     B  \n",
       "4              548.1               502.5       480.7    400.0     F  \n",
       "6              351.7               417.6       459.0    500.0     C  \n",
       "17             592.0               591.1       695.1    540.0     G  \n",
       "18             584.1               595.8       704.5    620.0     B  \n",
       "20             554.6               519.7       462.4    580.0     C  \n",
       "25             409.6               469.5       379.1    480.0     C  \n",
       "27             431.1               482.0       529.7    560.0     B  \n",
       "31             559.7               542.1       377.9    740.0     B  "
      ]
     },
     "execution_count": 25,
     "metadata": {},
     "output_type": "execute_result"
    }
   ],
   "source": [
    "estudo2_microdados.head(10)"
   ]
  },
  {
   "cell_type": "code",
   "execution_count": 26,
   "metadata": {},
   "outputs": [
    {
     "data": {
      "image/png": "[encoded data removed]",
      "text/plain": [
       "<Figure size 1080x720 with 1 Axes>"
      ]
     },
     "metadata": {
      "needs_background": "light"
     },
     "output_type": "display_data"
    }
   ],
   "source": [
    "import seaborn as sns\n",
    "plt.figure(figsize = (15,10))\n",
    "sns.boxplot(x='SG_UF_RESIDENCIA', y='CIENCIAS_NATUREZA', data=estudo2_microdados) \n",
    "plt.ylabel('Notas Ciências da Natureza')\n",
    "plt.xlabel('Estado')\n",
    "plt.title('Notas de Ciências da Natureza entre os canditos dos estados brasileiros')\n",
    "plt.show()"
   ]
  },
  {
   "cell_type": "code",
   "execution_count": 27,
   "metadata": {},
   "outputs": [
    {
     "data": {
      "image/png": "[encoded data removed]",
      "text/plain": [
       "<Figure size 1080x720 with 1 Axes>"
      ]
     },
     "metadata": {
      "needs_background": "light"
     },
     "output_type": "display_data"
    }
   ],
   "source": [
    "plt.figure(figsize = (15,10))\n",
    "sns.boxplot(x='SG_UF_RESIDENCIA', y='CIENCIAS_HUMANAS', data=estudo2_microdados) \n",
    "plt.ylabel('Notas Ciências Humanas')\n",
    "plt.xlabel('Estado')\n",
    "plt.title('Notas de Ciências Humanas entre os canditos dos estados brasileiros')\n",
    "plt.show()"
   ]
  },
  {
   "cell_type": "code",
   "execution_count": 28,
   "metadata": {},
   "outputs": [
    {
     "data": {
      "image/png": "[encoded data removed]",
      "text/plain": [
       "<Figure size 1080x720 with 1 Axes>"
      ]
     },
     "metadata": {
      "needs_background": "light"
     },
     "output_type": "display_data"
    }
   ],
   "source": [
    "plt.figure(figsize = (15,10))\n",
    "sns.boxplot(x='SG_UF_RESIDENCIA', y='LINGUAGENS_CODIGOS', data=estudo2_microdados) \n",
    "plt.ylabel('Notas Linguagens e Códigos')\n",
    "plt.xlabel('Estado')\n",
    "plt.title('Notas de Linguagens e Códigos entre os canditos dos estados brasileiros')\n",
    "plt.show()"
   ]
  },
  {
   "cell_type": "code",
   "execution_count": 29,
   "metadata": {},
   "outputs": [
    {
     "data": {
      "image/png": "[encoded data removed]",
      "text/plain": [
       "<Figure size 1080x720 with 1 Axes>"
      ]
     },
     "metadata": {
      "needs_background": "light"
     },
     "output_type": "display_data"
    }
   ],
   "source": [
    "plt.figure(figsize = (15,10))\n",
    "sns.boxplot(x='SG_UF_RESIDENCIA', y='MATEMATICA', data=estudo2_microdados) \n",
    "plt.ylabel('Notas Matemática')\n",
    "plt.xlabel('Estado')\n",
    "plt.title('Notas de Matemática entre os canditos dos estados brasileiros')\n",
    "plt.show()"
   ]
  },
  {
   "cell_type": "code",
   "execution_count": 30,
   "metadata": {},
   "outputs": [
    {
     "data": {
      "image/png": "[encoded data removed]",
      "text/plain": [
       "<Figure size 1080x720 with 1 Axes>"
      ]
     },
     "metadata": {
      "needs_background": "light"
     },
     "output_type": "display_data"
    }
   ],
   "source": [
    "plt.figure(figsize = (15,10))\n",
    "sns.boxplot(x='SG_UF_RESIDENCIA', y='REDACAO', data=estudo2_microdados) \n",
    "plt.ylabel('Notas Redação')\n",
    "plt.xlabel('Estado')\n",
    "plt.title('Notas de Redação entre os canditos dos estados brasileiros')\n",
    "plt.show()"
   ]
  },
  {
   "cell_type": "raw",
   "metadata": {},
   "source": [
    "Os boxplot acima mostra que em todas as provas, independente do estado que pertence o candidato, existem valores outliers, que são valores que fogem do padrão determinado por aplicações estatísticas para um intervalo de valores. Apenas para a prova de Redação é que existem notas entre 0 e 300. Os comportamento dos valores variam de estado para estado, não possuindo uma relação entre si. "
   ]
  },
  {
   "cell_type": "code",
   "execution_count": 31,
   "metadata": {},
   "outputs": [
    {
     "data": {
      "image/png": "[encoded data removed]",
      "text/plain": [
       "<Figure size 1080x720 with 1 Axes>"
      ]
     },
     "metadata": {
      "needs_background": "light"
     },
     "output_type": "display_data"
    }
   ],
   "source": [
    "plt.figure(figsize = (15,10))\n",
    "sns.boxplot(x='RENDA', y='MATEMATICA', data=estudo2_microdados) \n",
    "plt.ylabel('Notas Matemática')\n",
    "plt.xlabel('Renda')\n",
    "plt.title('Notas de Matemática em relação a renda dos candidatos inscritos')\n",
    "plt.show()"
   ]
  },
  {
   "cell_type": "code",
   "execution_count": 32,
   "metadata": {},
   "outputs": [
    {
     "data": {
      "image/png": "[encoded data removed]",
      "text/plain": [
       "<Figure size 1080x720 with 1 Axes>"
      ]
     },
     "metadata": {
      "needs_background": "light"
     },
     "output_type": "display_data"
    }
   ],
   "source": [
    "plt.figure(figsize = (15,10))\n",
    "sns.boxplot(x='RENDA', y='REDACAO', data=estudo2_microdados) \n",
    "plt.ylabel('Notas Redação')\n",
    "plt.xlabel('Renda')\n",
    "plt.title('Notas de Redação em relação a renda dos candidatos inscritos')\n",
    "plt.show()"
   ]
  },
  {
   "cell_type": "raw",
   "metadata": {},
   "source": [
    "Para uma análise aprofundada, foi criado os dois boxplot acima relacionando as notas das provas de Matemática e de Redação em relação as rendas familiares declaradas pelos candidatos no momento da inscrição para a prova do Enem 2019.\n",
    "As classes estão definidas da seguinte forma:\n",
    "A Nenhuma renda.\n",
    "B Até R$ 954,00.\n",
    "C De R$ 954,01 até R$ 1.431,00.\n",
    "D De R$ 1.431,01 até R$ 1.908,00.\n",
    "E De R$ 1.908,01 até R$ 2.385,00.\n",
    "F De R$ 2.385,01 até R$ 2.862,00.\n",
    "G De R$ 2.862,01 até R$ 3.816,00.\n",
    "H De R$ 3.816,01 até R$ 4.770,00.\n",
    "I De R$ 4.770,01 até R$ 5.724,00.\n",
    "J De R$ 5.724,01 até R$ 6.678,00.\n",
    "K De R$ 6.678,01 até R$ 7.632,00.\n",
    "L De R$ 7.632,01 até R$ 8.586,00.\n",
    "M De R$ 8.586,01 até R$ 9.540,00.\n",
    "N De R$ 9.540,01 até R$ 11.448,00.\n",
    "O De R$ 11.448,01 até R$ 14.310,00.\n",
    "P De R$ 14.310,01 até R$ 19.080,00.\n",
    "Q Mais de R$ 19.080,00.\n",
    "A média das notas da prova de matemática das classes de J à Q estão localizadas acima de 600. As demais médias estão abaixo de 600. \n",
    "A média das notas da prova de redação das classes de A à E estão localizadas abaixo de 600. As demais médias estão aacima de 600.\n",
    "Essas observações mostram que quanto maior a renda familiar declarada pelo candidato durante a inscrição na prova do Enem 2019, maior a probabilidade de suas notas serem maiores."
   ]
  },
  {
   "cell_type": "code",
   "execution_count": 33,
   "metadata": {},
   "outputs": [
    {
     "data": {
      "text/plain": [
       "<matplotlib.legend.Legend at 0x1a7c69ebf10>"
      ]
     },
     "execution_count": 33,
     "metadata": {},
     "output_type": "execute_result"
    },
    {
     "data": {
      "image/png": "[encoded data removed]",
      "text/plain": [
       "<Figure size 576x432 with 1 Axes>"
      ]
     },
     "metadata": {
      "needs_background": "light"
     },
     "output_type": "display_data"
    }
   ],
   "source": [
    "particular = estudo2_microdados[estudo2_microdados.TP_ESCOLA == 3]\n",
    "publica = estudo2_microdados[estudo2_microdados.TP_ESCOLA == 2]\n",
    "nota_particular = particular['MATEMATICA']\n",
    "nota_publica = publica['MATEMATICA']\n",
    "plt.figure(figsize=(8, 6))\n",
    "plt.xlim(0, 1100)\n",
    "plt.title('Distribuição das Notas de matemática')\n",
    "plt.xlabel('Matemática')\n",
    "plt.hist(nota_particular, alpha=0.5, label='Particular', color='#FF26E1', density=True)\n",
    "plt.hist(nota_publica, alpha=0.5, label='Publica', color='#2DB200', density=True)\n",
    "plt.legend(loc='upper right')"
   ]
  },
  {
   "cell_type": "raw",
   "metadata": {},
   "source": [
    "Observando o histograma acima pode-se concluir que os candidatos que declararam durante a inscrição para realizar a prova do Enem de 2019 que são oriundos de escolas particulares apresentam uma maior distribuição de suas notas localizadas entre o intervalo de 500 a 800. A distribuição das notas dos candidatos de escola pública estão centrais ao gráfico, onde sua maioria está entre o intervalo de 400 a 700."
   ]
  },
  {
   "cell_type": "code",
   "execution_count": 34,
   "metadata": {},
   "outputs": [
    {
     "data": {
      "text/plain": [
       "<matplotlib.legend.Legend at 0x1a7c62e2880>"
      ]
     },
     "execution_count": 34,
     "metadata": {},
     "output_type": "execute_result"
    },
    {
     "data": {
      "image/png": "[encoded data removed]",
      "text/plain": [
       "<Figure size 576x432 with 1 Axes>"
      ]
     },
     "metadata": {
      "needs_background": "light"
     },
     "output_type": "display_data"
    }
   ],
   "source": [
    "particular = estudo2_microdados[estudo2_microdados.TP_ESCOLA == 3]\n",
    "publica = estudo2_microdados[estudo2_microdados.TP_ESCOLA == 2]\n",
    "nota_particular = particular['REDACAO']\n",
    "nota_publica = publica['REDACAO']\n",
    "plt.figure(figsize=(8, 6))\n",
    "plt.xlim(0, 1100)\n",
    "plt.title('Distribuição das Notas de Redação')\n",
    "plt.xlabel('Redação')\n",
    "plt.hist(nota_particular, alpha=0.5, label='Particular', color='#FF26E1', density=True)\n",
    "plt.hist(nota_publica, alpha=0.5, label='Publica', color='#2DB200', density=True)\n",
    "plt.legend(loc='upper right')"
   ]
  },
  {
   "cell_type": "raw",
   "metadata": {},
   "source": [
    "Observando o histograma acima pode-se concluir que os candidatos que declararam durante a inscrição para realizar a prova do Enem de 2019 que são oriundos de escolas particulares apresentam uma maior distribuição de suas notas localizadas a direita do gráfico, região onde estão localizadas as melhores notas na prova de Redação. A distribuição das notas dos candidatos de escola pública estão centrais ao gráfico, onde sua maioria está entre o intervalo de 400 a 800."
   ]
  },
  {
   "cell_type": "code",
   "execution_count": 35,
   "metadata": {},
   "outputs": [],
   "source": [
    "estudo3_microdados = estudo2_microdados['RENDA'].replace(['A', 'B', 'C', 'D', 'E', 'F'], 1)\n",
    "estudo3_microdados = estudo3_microdados.replace(['G', 'H', 'I', 'J', 'K', 'L'], 2)\n",
    "estudo3_microdados = estudo3_microdados.replace(['M', 'N','O','P', 'Q'], 3)"
   ]
  },
  {
   "cell_type": "code",
   "execution_count": 36,
   "metadata": {},
   "outputs": [
    {
     "data": {
      "text/plain": [
       "1     2\n",
       "2     1\n",
       "4     1\n",
       "6     1\n",
       "17    2\n",
       "18    1\n",
       "20    1\n",
       "25    1\n",
       "27    1\n",
       "31    1\n",
       "Name: RENDA, dtype: int64"
      ]
     },
     "execution_count": 36,
     "metadata": {},
     "output_type": "execute_result"
    }
   ],
   "source": [
    "estudo3_microdados.head(10)"
   ]
  },
  {
   "cell_type": "code",
   "execution_count": 37,
   "metadata": {},
   "outputs": [
    {
     "name": "stdout",
     "output_type": "stream",
     "text": [
      "         NU_INSCRICAO SG_UF_RESIDENCIA  TP_ESCOLA  CIENCIAS_NATUREZA  \\\n",
      "1        190001237802               MG          1              513.6   \n",
      "2        190001421548               BA          1              484.6   \n",
      "4        190001592266               SP          2              543.9   \n",
      "6        190001475147               RN          1              518.2   \n",
      "17       190001237805               MG          1              560.0   \n",
      "...               ...              ...        ...                ...   \n",
      "2292854  190005771623               PA          1              519.9   \n",
      "2292858  190005863624               SP          2              433.7   \n",
      "2292859  190005539808               MA          1              364.1   \n",
      "2292861  190005928993               PR          2              492.9   \n",
      "2292865  190005863627               SP          2              370.3   \n",
      "\n",
      "         CIENCIAS_HUMANAS  LINGUAGENS_CODIGOS  MATEMATICA  REDACAO  RENDA  \n",
      "1                   575.5               570.7       677.0    860.0      2  \n",
      "2                   488.4               507.2       594.7    600.0      1  \n",
      "4                   548.1               502.5       480.7    400.0      1  \n",
      "6                   351.7               417.6       459.0    500.0      1  \n",
      "17                  592.0               591.1       695.1    540.0      2  \n",
      "...                   ...                 ...         ...      ...    ...  \n",
      "2292854             465.3               514.8       489.9    520.0      1  \n",
      "2292858             431.2               545.7       435.2    520.0      2  \n",
      "2292859             421.8               506.4       432.2    460.0      1  \n",
      "2292861             471.8               522.1       517.6    540.0      1  \n",
      "2292865             407.4               506.7       390.7    460.0      1  \n",
      "\n",
      "[953878 rows x 9 columns]\n"
     ]
    }
   ],
   "source": [
    "estudo2_microdados = estudo2_microdados.drop([\"RENDA\"], axis=1)\n",
    "notas_classes = pd.concat((estudo2_microdados, estudo3_microdados, ), axis=1) \n",
    "#notas_classes = notas_classes.drop(columns=8) \n",
    "print(notas_classes) "
   ]
  },
  {
   "cell_type": "code",
   "execution_count": 38,
   "metadata": {},
   "outputs": [
    {
     "data": {
      "text/html": [
       "<div>\n",
       "<style scoped>\n",
       "    .dataframe tbody tr th:only-of-type {\n",
       "        vertical-align: middle;\n",
       "    }\n",
       "\n",
       "    .dataframe tbody tr th {\n",
       "        vertical-align: top;\n",
       "    }\n",
       "\n",
       "    .dataframe thead th {\n",
       "        text-align: right;\n",
       "    }\n",
       "</style>\n",
       "<table border=\"1\" class=\"dataframe\">\n",
       "  <thead>\n",
       "    <tr style=\"text-align: right;\">\n",
       "      <th></th>\n",
       "      <th>NU_INSCRICAO</th>\n",
       "      <th>SG_UF_RESIDENCIA</th>\n",
       "      <th>TP_ESCOLA</th>\n",
       "      <th>CIENCIAS_NATUREZA</th>\n",
       "      <th>CIENCIAS_HUMANAS</th>\n",
       "      <th>LINGUAGENS_CODIGOS</th>\n",
       "      <th>MATEMATICA</th>\n",
       "      <th>REDACAO</th>\n",
       "      <th>RENDA</th>\n",
       "    </tr>\n",
       "  </thead>\n",
       "  <tbody>\n",
       "    <tr>\n",
       "      <th>1</th>\n",
       "      <td>190001237802</td>\n",
       "      <td>MG</td>\n",
       "      <td>1</td>\n",
       "      <td>513.6</td>\n",
       "      <td>575.5</td>\n",
       "      <td>570.7</td>\n",
       "      <td>677.0</td>\n",
       "      <td>860.0</td>\n",
       "      <td>2</td>\n",
       "    </tr>\n",
       "    <tr>\n",
       "      <th>2</th>\n",
       "      <td>190001421548</td>\n",
       "      <td>BA</td>\n",
       "      <td>1</td>\n",
       "      <td>484.6</td>\n",
       "      <td>488.4</td>\n",
       "      <td>507.2</td>\n",
       "      <td>594.7</td>\n",
       "      <td>600.0</td>\n",
       "      <td>1</td>\n",
       "    </tr>\n",
       "    <tr>\n",
       "      <th>4</th>\n",
       "      <td>190001592266</td>\n",
       "      <td>SP</td>\n",
       "      <td>2</td>\n",
       "      <td>543.9</td>\n",
       "      <td>548.1</td>\n",
       "      <td>502.5</td>\n",
       "      <td>480.7</td>\n",
       "      <td>400.0</td>\n",
       "      <td>1</td>\n",
       "    </tr>\n",
       "    <tr>\n",
       "      <th>6</th>\n",
       "      <td>190001475147</td>\n",
       "      <td>RN</td>\n",
       "      <td>1</td>\n",
       "      <td>518.2</td>\n",
       "      <td>351.7</td>\n",
       "      <td>417.6</td>\n",
       "      <td>459.0</td>\n",
       "      <td>500.0</td>\n",
       "      <td>1</td>\n",
       "    </tr>\n",
       "    <tr>\n",
       "      <th>17</th>\n",
       "      <td>190001237805</td>\n",
       "      <td>MG</td>\n",
       "      <td>1</td>\n",
       "      <td>560.0</td>\n",
       "      <td>592.0</td>\n",
       "      <td>591.1</td>\n",
       "      <td>695.1</td>\n",
       "      <td>540.0</td>\n",
       "      <td>2</td>\n",
       "    </tr>\n",
       "    <tr>\n",
       "      <th>...</th>\n",
       "      <td>...</td>\n",
       "      <td>...</td>\n",
       "      <td>...</td>\n",
       "      <td>...</td>\n",
       "      <td>...</td>\n",
       "      <td>...</td>\n",
       "      <td>...</td>\n",
       "      <td>...</td>\n",
       "      <td>...</td>\n",
       "    </tr>\n",
       "    <tr>\n",
       "      <th>2292854</th>\n",
       "      <td>190005771623</td>\n",
       "      <td>PA</td>\n",
       "      <td>1</td>\n",
       "      <td>519.9</td>\n",
       "      <td>465.3</td>\n",
       "      <td>514.8</td>\n",
       "      <td>489.9</td>\n",
       "      <td>520.0</td>\n",
       "      <td>1</td>\n",
       "    </tr>\n",
       "    <tr>\n",
       "      <th>2292858</th>\n",
       "      <td>190005863624</td>\n",
       "      <td>SP</td>\n",
       "      <td>2</td>\n",
       "      <td>433.7</td>\n",
       "      <td>431.2</td>\n",
       "      <td>545.7</td>\n",
       "      <td>435.2</td>\n",
       "      <td>520.0</td>\n",
       "      <td>2</td>\n",
       "    </tr>\n",
       "    <tr>\n",
       "      <th>2292859</th>\n",
       "      <td>190005539808</td>\n",
       "      <td>MA</td>\n",
       "      <td>1</td>\n",
       "      <td>364.1</td>\n",
       "      <td>421.8</td>\n",
       "      <td>506.4</td>\n",
       "      <td>432.2</td>\n",
       "      <td>460.0</td>\n",
       "      <td>1</td>\n",
       "    </tr>\n",
       "    <tr>\n",
       "      <th>2292861</th>\n",
       "      <td>190005928993</td>\n",
       "      <td>PR</td>\n",
       "      <td>2</td>\n",
       "      <td>492.9</td>\n",
       "      <td>471.8</td>\n",
       "      <td>522.1</td>\n",
       "      <td>517.6</td>\n",
       "      <td>540.0</td>\n",
       "      <td>1</td>\n",
       "    </tr>\n",
       "    <tr>\n",
       "      <th>2292865</th>\n",
       "      <td>190005863627</td>\n",
       "      <td>SP</td>\n",
       "      <td>2</td>\n",
       "      <td>370.3</td>\n",
       "      <td>407.4</td>\n",
       "      <td>506.7</td>\n",
       "      <td>390.7</td>\n",
       "      <td>460.0</td>\n",
       "      <td>1</td>\n",
       "    </tr>\n",
       "  </tbody>\n",
       "</table>\n",
       "<p>953878 rows × 9 columns</p>\n",
       "</div>"
      ],
      "text/plain": [
       "         NU_INSCRICAO SG_UF_RESIDENCIA  TP_ESCOLA  CIENCIAS_NATUREZA  \\\n",
       "1        190001237802               MG          1              513.6   \n",
       "2        190001421548               BA          1              484.6   \n",
       "4        190001592266               SP          2              543.9   \n",
       "6        190001475147               RN          1              518.2   \n",
       "17       190001237805               MG          1              560.0   \n",
       "...               ...              ...        ...                ...   \n",
       "2292854  190005771623               PA          1              519.9   \n",
       "2292858  190005863624               SP          2              433.7   \n",
       "2292859  190005539808               MA          1              364.1   \n",
       "2292861  190005928993               PR          2              492.9   \n",
       "2292865  190005863627               SP          2              370.3   \n",
       "\n",
       "         CIENCIAS_HUMANAS  LINGUAGENS_CODIGOS  MATEMATICA  REDACAO  RENDA  \n",
       "1                   575.5               570.7       677.0    860.0      2  \n",
       "2                   488.4               507.2       594.7    600.0      1  \n",
       "4                   548.1               502.5       480.7    400.0      1  \n",
       "6                   351.7               417.6       459.0    500.0      1  \n",
       "17                  592.0               591.1       695.1    540.0      2  \n",
       "...                   ...                 ...         ...      ...    ...  \n",
       "2292854             465.3               514.8       489.9    520.0      1  \n",
       "2292858             431.2               545.7       435.2    520.0      2  \n",
       "2292859             421.8               506.4       432.2    460.0      1  \n",
       "2292861             471.8               522.1       517.6    540.0      1  \n",
       "2292865             407.4               506.7       390.7    460.0      1  \n",
       "\n",
       "[953878 rows x 9 columns]"
      ]
     },
     "execution_count": 38,
     "metadata": {},
     "output_type": "execute_result"
    }
   ],
   "source": [
    "notas_classes = pd.DataFrame(notas_classes)\n",
    "notas_classes"
   ]
  },
  {
   "cell_type": "markdown",
   "metadata": {},
   "source": [
    "Estabelecendo uma comparação entre os dois gráficos de distribuição acima, é possível perceber que a maior parte das notas acima de 600 tanto na prova de Matemática quanto na prova de Redação corresponde aos candidatos que durante a inscrição para a prova do Enem inseriram a informação que vieram de escolas particulares. "
   ]
  },
  {
   "cell_type": "code",
   "execution_count": 39,
   "metadata": {},
   "outputs": [
    {
     "data": {
      "text/plain": [
       "<matplotlib.legend.Legend at 0x1a7c6a1a610>"
      ]
     },
     "execution_count": 39,
     "metadata": {},
     "output_type": "execute_result"
    },
    {
     "data": {
      "image/png": "[encoded data removed]",
      "text/plain": [
       "<Figure size 576x432 with 1 Axes>"
      ]
     },
     "metadata": {
      "needs_background": "light"
     },
     "output_type": "display_data"
    },
    {
     "data": {
      "image/png": "[encoded data removed]",
      "text/plain": [
       "<Figure size 576x432 with 1 Axes>"
      ]
     },
     "metadata": {
      "needs_background": "light"
     },
     "output_type": "display_data"
    },
    {
     "data": {
      "image/png": "[encoded data removed]",
      "text/plain": [
       "<Figure size 576x432 with 1 Axes>"
      ]
     },
     "metadata": {
      "needs_background": "light"
     },
     "output_type": "display_data"
    }
   ],
   "source": [
    "classe1 = notas_classes[notas_classes.RENDA == 1]\n",
    "classe2 = notas_classes[notas_classes.RENDA == 2]\n",
    "classe3 = notas_classes[notas_classes.RENDA == 3]\n",
    "nota_classe1 = classe1['MATEMATICA']\n",
    "nota_classe2 = classe2['MATEMATICA']\n",
    "nota_classe3 = classe3['MATEMATICA']\n",
    "plt.figure(figsize=(8, 6))\n",
    "plt.xlim(0, 1100)\n",
    "plt.title('Distribuição das Notas de matemática')\n",
    "plt.xlabel('Matemática')\n",
    "plt.hist(nota_classe1, alpha=0.5, label='Classe 1', color='#FF26E1', density=True)\n",
    "plt.legend(loc='upper right')\n",
    "plt.figure(figsize=(8, 6))\n",
    "plt.xlim(0, 1100)\n",
    "plt.title('Distribuição das Notas de matemática')\n",
    "plt.xlabel('Matemática')\n",
    "plt.hist(nota_classe2, alpha=0.5, label='Classe 2', color='#2DB200', density=True)\n",
    "plt.legend(loc='upper right')\n",
    "plt.figure(figsize=(8, 6))\n",
    "plt.xlim(0, 1100)\n",
    "plt.title('Distribuição das Notas de matemática')\n",
    "plt.xlabel('Matemática')\n",
    "plt.hist(nota_classe3, alpha=0.5, label='Classe 3', color='b', density=True)\n",
    "plt.legend(loc='upper right')"
   ]
  },
  {
   "cell_type": "raw",
   "metadata": {},
   "source": [
    "A classe 1 corresponde aos candidatos que informação a renda familiar inferior a R$ 2994,00\n",
    "A classe 2 corresponde aos candidatos que informação a renda familiar superior a R$ 2994,00 e inferior a R$ 8982,00\n",
    "A classe 3 corresponde aos candidatos que informação a renda familiar superior a R$ 8982,00 ou possui renda familiar acima de R$ 19960,00.\n",
    "Os histogramas acima mostra a distribuição das notas na prova de matemática para os participantes entre as três classes criadas para limitar a renda familiar declarada durante a inscrição do canditado para a prova do Enem 2019. Pode-se observar que a distribuição que está localizada mais a direita dos gráficos correspondem a obtenção das melhores notas. Nesse caso, a classe onde a maioria das notas estão localizadas mais a direita do gráfico corresponde a classe 3, onde a renda familiar declarada pelo candidato é superior a R$ 8982,00 ou possui renda familiar acima de R$ 19960,00.\n",
    "A distribuição das notas da classe 2 está em sua maiora localizada entre o intervalo das notas de 400 a 800, enquanto que os candidatos que em sua inscrição declarou que a renda familiar é inferior a R$ 2994,00 tem a maioria de suas notas na prova de matemática entre 400 e 600."
   ]
  },
  {
   "cell_type": "code",
   "execution_count": 40,
   "metadata": {},
   "outputs": [
    {
     "data": {
      "text/plain": [
       "<matplotlib.legend.Legend at 0x1a7c958f700>"
      ]
     },
     "execution_count": 40,
     "metadata": {},
     "output_type": "execute_result"
    },
    {
     "data": {
      "image/png": "[encoded data removed]",
      "text/plain": [
       "<Figure size 576x432 with 1 Axes>"
      ]
     },
     "metadata": {
      "needs_background": "light"
     },
     "output_type": "display_data"
    },
    {
     "data": {
      "image/png": "[encoded data removed]",
      "text/plain": [
       "<Figure size 576x432 with 1 Axes>"
      ]
     },
     "metadata": {
      "needs_background": "light"
     },
     "output_type": "display_data"
    },
    {
     "data": {
      "image/png": "[encoded data removed]",
      "text/plain": [
       "<Figure size 576x432 with 1 Axes>"
      ]
     },
     "metadata": {
      "needs_background": "light"
     },
     "output_type": "display_data"
    }
   ],
   "source": [
    "classe1 = notas_classes[notas_classes.RENDA == 1]\n",
    "classe2 = notas_classes[notas_classes.RENDA == 2]\n",
    "classe3 = notas_classes[notas_classes.RENDA == 3]\n",
    "nota_classe1 = classe1['REDACAO']\n",
    "nota_classe2 = classe2['REDACAO']\n",
    "nota_classe3 = classe3['REDACAO']\n",
    "plt.figure(figsize=(8, 6))\n",
    "plt.xlim(0, 1100)\n",
    "plt.title('Distribuição das Notas de Redação')\n",
    "plt.xlabel('Matemática')\n",
    "plt.hist(nota_classe1, alpha=0.5, label='Classe 1', color='#FF26E1', density=True)\n",
    "plt.legend(loc='upper right')\n",
    "plt.figure(figsize=(8, 6))\n",
    "plt.xlim(0, 1100)\n",
    "plt.title('Distribuição das Notas de Redação')\n",
    "plt.xlabel('Matemática')\n",
    "plt.hist(nota_classe2, alpha=0.5, label='Classe 2', color='#2DB200', density=True)\n",
    "plt.legend(loc='upper right')\n",
    "plt.figure(figsize=(8, 6))\n",
    "plt.xlim(0, 1100)\n",
    "plt.title('Distribuição das Notas de Redação')\n",
    "plt.xlabel('Matemática')\n",
    "plt.hist(nota_classe3, alpha=0.5, label='Classe 3', color='b', density=True)\n",
    "plt.legend(loc='upper right')"
   ]
  },
  {
   "cell_type": "raw",
   "metadata": {},
   "source": [
    "Em relação aos histogramas das notas das redações para as classes criadas, pode-se observar que as Classes 2 e 3 possuem a distribuição mais localizada a direita do gráfico, referente as notas maiores na prova em questão. A maior concentração das notas referentes a classe 3 está no intervalo entre 600 a 1000.\n",
    "Para a classe 1 a maior concentração das notas da prova de redação está no intervalo entre 400 e 800.\n",
    "De forma geral, quanto maior a renda familiar declarada pelos participantes, observa-se uma probabilidade de tirar notas maiores."
   ]
  },
  {
   "cell_type": "code",
   "execution_count": 41,
   "metadata": {},
   "outputs": [],
   "source": [
    "notas_classes['NOTA_TOTAL'] = (notas_classes['REDACAO'] + notas_classes['CIENCIAS_HUMANAS'] + notas_classes['CIENCIAS_NATUREZA'] + notas_classes['LINGUAGENS_CODIGOS'] + notas_classes['MATEMATICA'])/5"
   ]
  },
  {
   "cell_type": "code",
   "execution_count": 42,
   "metadata": {},
   "outputs": [
    {
     "data": {
      "text/html": [
       "<div>\n",
       "<style scoped>\n",
       "    .dataframe tbody tr th:only-of-type {\n",
       "        vertical-align: middle;\n",
       "    }\n",
       "\n",
       "    .dataframe tbody tr th {\n",
       "        vertical-align: top;\n",
       "    }\n",
       "\n",
       "    .dataframe thead th {\n",
       "        text-align: right;\n",
       "    }\n",
       "</style>\n",
       "<table border=\"1\" class=\"dataframe\">\n",
       "  <thead>\n",
       "    <tr style=\"text-align: right;\">\n",
       "      <th></th>\n",
       "      <th>NU_INSCRICAO</th>\n",
       "      <th>SG_UF_RESIDENCIA</th>\n",
       "      <th>TP_ESCOLA</th>\n",
       "      <th>CIENCIAS_NATUREZA</th>\n",
       "      <th>CIENCIAS_HUMANAS</th>\n",
       "      <th>LINGUAGENS_CODIGOS</th>\n",
       "      <th>MATEMATICA</th>\n",
       "      <th>REDACAO</th>\n",
       "      <th>RENDA</th>\n",
       "      <th>NOTA_TOTAL</th>\n",
       "    </tr>\n",
       "  </thead>\n",
       "  <tbody>\n",
       "    <tr>\n",
       "      <th>1</th>\n",
       "      <td>190001237802</td>\n",
       "      <td>MG</td>\n",
       "      <td>1</td>\n",
       "      <td>513.6</td>\n",
       "      <td>575.5</td>\n",
       "      <td>570.7</td>\n",
       "      <td>677.0</td>\n",
       "      <td>860.0</td>\n",
       "      <td>2</td>\n",
       "      <td>639.36</td>\n",
       "    </tr>\n",
       "    <tr>\n",
       "      <th>2</th>\n",
       "      <td>190001421548</td>\n",
       "      <td>BA</td>\n",
       "      <td>1</td>\n",
       "      <td>484.6</td>\n",
       "      <td>488.4</td>\n",
       "      <td>507.2</td>\n",
       "      <td>594.7</td>\n",
       "      <td>600.0</td>\n",
       "      <td>1</td>\n",
       "      <td>534.98</td>\n",
       "    </tr>\n",
       "    <tr>\n",
       "      <th>4</th>\n",
       "      <td>190001592266</td>\n",
       "      <td>SP</td>\n",
       "      <td>2</td>\n",
       "      <td>543.9</td>\n",
       "      <td>548.1</td>\n",
       "      <td>502.5</td>\n",
       "      <td>480.7</td>\n",
       "      <td>400.0</td>\n",
       "      <td>1</td>\n",
       "      <td>495.04</td>\n",
       "    </tr>\n",
       "    <tr>\n",
       "      <th>6</th>\n",
       "      <td>190001475147</td>\n",
       "      <td>RN</td>\n",
       "      <td>1</td>\n",
       "      <td>518.2</td>\n",
       "      <td>351.7</td>\n",
       "      <td>417.6</td>\n",
       "      <td>459.0</td>\n",
       "      <td>500.0</td>\n",
       "      <td>1</td>\n",
       "      <td>449.30</td>\n",
       "    </tr>\n",
       "    <tr>\n",
       "      <th>17</th>\n",
       "      <td>190001237805</td>\n",
       "      <td>MG</td>\n",
       "      <td>1</td>\n",
       "      <td>560.0</td>\n",
       "      <td>592.0</td>\n",
       "      <td>591.1</td>\n",
       "      <td>695.1</td>\n",
       "      <td>540.0</td>\n",
       "      <td>2</td>\n",
       "      <td>595.64</td>\n",
       "    </tr>\n",
       "    <tr>\n",
       "      <th>18</th>\n",
       "      <td>190001421552</td>\n",
       "      <td>BA</td>\n",
       "      <td>2</td>\n",
       "      <td>567.3</td>\n",
       "      <td>584.1</td>\n",
       "      <td>595.8</td>\n",
       "      <td>704.5</td>\n",
       "      <td>620.0</td>\n",
       "      <td>1</td>\n",
       "      <td>614.34</td>\n",
       "    </tr>\n",
       "    <tr>\n",
       "      <th>20</th>\n",
       "      <td>190001237806</td>\n",
       "      <td>MG</td>\n",
       "      <td>1</td>\n",
       "      <td>504.2</td>\n",
       "      <td>554.6</td>\n",
       "      <td>519.7</td>\n",
       "      <td>462.4</td>\n",
       "      <td>580.0</td>\n",
       "      <td>1</td>\n",
       "      <td>524.18</td>\n",
       "    </tr>\n",
       "    <tr>\n",
       "      <th>25</th>\n",
       "      <td>190001480443</td>\n",
       "      <td>PB</td>\n",
       "      <td>2</td>\n",
       "      <td>373.2</td>\n",
       "      <td>409.6</td>\n",
       "      <td>469.5</td>\n",
       "      <td>379.1</td>\n",
       "      <td>480.0</td>\n",
       "      <td>1</td>\n",
       "      <td>422.28</td>\n",
       "    </tr>\n",
       "    <tr>\n",
       "      <th>27</th>\n",
       "      <td>190002037440</td>\n",
       "      <td>DF</td>\n",
       "      <td>2</td>\n",
       "      <td>389.7</td>\n",
       "      <td>431.1</td>\n",
       "      <td>482.0</td>\n",
       "      <td>529.7</td>\n",
       "      <td>560.0</td>\n",
       "      <td>1</td>\n",
       "      <td>478.50</td>\n",
       "    </tr>\n",
       "    <tr>\n",
       "      <th>31</th>\n",
       "      <td>190001042835</td>\n",
       "      <td>PA</td>\n",
       "      <td>1</td>\n",
       "      <td>463.9</td>\n",
       "      <td>559.7</td>\n",
       "      <td>542.1</td>\n",
       "      <td>377.9</td>\n",
       "      <td>740.0</td>\n",
       "      <td>1</td>\n",
       "      <td>536.72</td>\n",
       "    </tr>\n",
       "    <tr>\n",
       "      <th>32</th>\n",
       "      <td>190001133212</td>\n",
       "      <td>CE</td>\n",
       "      <td>1</td>\n",
       "      <td>457.9</td>\n",
       "      <td>580.9</td>\n",
       "      <td>501.8</td>\n",
       "      <td>447.4</td>\n",
       "      <td>440.0</td>\n",
       "      <td>1</td>\n",
       "      <td>485.60</td>\n",
       "    </tr>\n",
       "    <tr>\n",
       "      <th>33</th>\n",
       "      <td>190001493191</td>\n",
       "      <td>PE</td>\n",
       "      <td>1</td>\n",
       "      <td>574.0</td>\n",
       "      <td>570.3</td>\n",
       "      <td>593.0</td>\n",
       "      <td>584.9</td>\n",
       "      <td>820.0</td>\n",
       "      <td>1</td>\n",
       "      <td>628.44</td>\n",
       "    </tr>\n",
       "    <tr>\n",
       "      <th>34</th>\n",
       "      <td>190001517224</td>\n",
       "      <td>RJ</td>\n",
       "      <td>1</td>\n",
       "      <td>501.7</td>\n",
       "      <td>593.3</td>\n",
       "      <td>604.5</td>\n",
       "      <td>622.5</td>\n",
       "      <td>600.0</td>\n",
       "      <td>2</td>\n",
       "      <td>584.40</td>\n",
       "    </tr>\n",
       "    <tr>\n",
       "      <th>36</th>\n",
       "      <td>190001517225</td>\n",
       "      <td>RJ</td>\n",
       "      <td>1</td>\n",
       "      <td>416.7</td>\n",
       "      <td>491.8</td>\n",
       "      <td>488.7</td>\n",
       "      <td>406.5</td>\n",
       "      <td>480.0</td>\n",
       "      <td>1</td>\n",
       "      <td>456.74</td>\n",
       "    </tr>\n",
       "    <tr>\n",
       "      <th>37</th>\n",
       "      <td>190001210203</td>\n",
       "      <td>MA</td>\n",
       "      <td>1</td>\n",
       "      <td>475.3</td>\n",
       "      <td>525.2</td>\n",
       "      <td>579.6</td>\n",
       "      <td>599.2</td>\n",
       "      <td>480.0</td>\n",
       "      <td>1</td>\n",
       "      <td>531.86</td>\n",
       "    </tr>\n",
       "    <tr>\n",
       "      <th>39</th>\n",
       "      <td>190001121526</td>\n",
       "      <td>PI</td>\n",
       "      <td>1</td>\n",
       "      <td>432.9</td>\n",
       "      <td>441.7</td>\n",
       "      <td>476.5</td>\n",
       "      <td>430.1</td>\n",
       "      <td>460.0</td>\n",
       "      <td>1</td>\n",
       "      <td>448.24</td>\n",
       "    </tr>\n",
       "    <tr>\n",
       "      <th>40</th>\n",
       "      <td>190001121527</td>\n",
       "      <td>PI</td>\n",
       "      <td>2</td>\n",
       "      <td>427.6</td>\n",
       "      <td>548.8</td>\n",
       "      <td>587.2</td>\n",
       "      <td>699.3</td>\n",
       "      <td>820.0</td>\n",
       "      <td>2</td>\n",
       "      <td>616.58</td>\n",
       "    </tr>\n",
       "    <tr>\n",
       "      <th>43</th>\n",
       "      <td>190001421559</td>\n",
       "      <td>BA</td>\n",
       "      <td>1</td>\n",
       "      <td>413.6</td>\n",
       "      <td>463.5</td>\n",
       "      <td>431.3</td>\n",
       "      <td>389.7</td>\n",
       "      <td>340.0</td>\n",
       "      <td>1</td>\n",
       "      <td>407.62</td>\n",
       "    </tr>\n",
       "    <tr>\n",
       "      <th>45</th>\n",
       "      <td>190001517226</td>\n",
       "      <td>RJ</td>\n",
       "      <td>1</td>\n",
       "      <td>461.7</td>\n",
       "      <td>577.0</td>\n",
       "      <td>553.5</td>\n",
       "      <td>422.7</td>\n",
       "      <td>520.0</td>\n",
       "      <td>1</td>\n",
       "      <td>506.98</td>\n",
       "    </tr>\n",
       "    <tr>\n",
       "      <th>47</th>\n",
       "      <td>190001409450</td>\n",
       "      <td>SE</td>\n",
       "      <td>1</td>\n",
       "      <td>584.4</td>\n",
       "      <td>598.8</td>\n",
       "      <td>579.4</td>\n",
       "      <td>528.0</td>\n",
       "      <td>600.0</td>\n",
       "      <td>1</td>\n",
       "      <td>578.12</td>\n",
       "    </tr>\n",
       "  </tbody>\n",
       "</table>\n",
       "</div>"
      ],
      "text/plain": [
       "    NU_INSCRICAO SG_UF_RESIDENCIA  TP_ESCOLA  CIENCIAS_NATUREZA  \\\n",
       "1   190001237802               MG          1              513.6   \n",
       "2   190001421548               BA          1              484.6   \n",
       "4   190001592266               SP          2              543.9   \n",
       "6   190001475147               RN          1              518.2   \n",
       "17  190001237805               MG          1              560.0   \n",
       "18  190001421552               BA          2              567.3   \n",
       "20  190001237806               MG          1              504.2   \n",
       "25  190001480443               PB          2              373.2   \n",
       "27  190002037440               DF          2              389.7   \n",
       "31  190001042835               PA          1              463.9   \n",
       "32  190001133212               CE          1              457.9   \n",
       "33  190001493191               PE          1              574.0   \n",
       "34  190001517224               RJ          1              501.7   \n",
       "36  190001517225               RJ          1              416.7   \n",
       "37  190001210203               MA          1              475.3   \n",
       "39  190001121526               PI          1              432.9   \n",
       "40  190001121527               PI          2              427.6   \n",
       "43  190001421559               BA          1              413.6   \n",
       "45  190001517226               RJ          1              461.7   \n",
       "47  190001409450               SE          1              584.4   \n",
       "\n",
       "    CIENCIAS_HUMANAS  LINGUAGENS_CODIGOS  MATEMATICA  REDACAO  RENDA  \\\n",
       "1              575.5               570.7       677.0    860.0      2   \n",
       "2              488.4               507.2       594.7    600.0      1   \n",
       "4              548.1               502.5       480.7    400.0      1   \n",
       "6              351.7               417.6       459.0    500.0      1   \n",
       "17             592.0               591.1       695.1    540.0      2   \n",
       "18             584.1               595.8       704.5    620.0      1   \n",
       "20             554.6               519.7       462.4    580.0      1   \n",
       "25             409.6               469.5       379.1    480.0      1   \n",
       "27             431.1               482.0       529.7    560.0      1   \n",
       "31             559.7               542.1       377.9    740.0      1   \n",
       "32             580.9               501.8       447.4    440.0      1   \n",
       "33             570.3               593.0       584.9    820.0      1   \n",
       "34             593.3               604.5       622.5    600.0      2   \n",
       "36             491.8               488.7       406.5    480.0      1   \n",
       "37             525.2               579.6       599.2    480.0      1   \n",
       "39             441.7               476.5       430.1    460.0      1   \n",
       "40             548.8               587.2       699.3    820.0      2   \n",
       "43             463.5               431.3       389.7    340.0      1   \n",
       "45             577.0               553.5       422.7    520.0      1   \n",
       "47             598.8               579.4       528.0    600.0      1   \n",
       "\n",
       "    NOTA_TOTAL  \n",
       "1       639.36  \n",
       "2       534.98  \n",
       "4       495.04  \n",
       "6       449.30  \n",
       "17      595.64  \n",
       "18      614.34  \n",
       "20      524.18  \n",
       "25      422.28  \n",
       "27      478.50  \n",
       "31      536.72  \n",
       "32      485.60  \n",
       "33      628.44  \n",
       "34      584.40  \n",
       "36      456.74  \n",
       "37      531.86  \n",
       "39      448.24  \n",
       "40      616.58  \n",
       "43      407.62  \n",
       "45      506.98  \n",
       "47      578.12  "
      ]
     },
     "execution_count": 42,
     "metadata": {},
     "output_type": "execute_result"
    }
   ],
   "source": [
    "notas_classes.head(20)"
   ]
  },
  {
   "cell_type": "code",
   "execution_count": 43,
   "metadata": {},
   "outputs": [
    {
     "data": {
      "text/plain": [
       "<matplotlib.axes._subplots.AxesSubplot at 0x1a7b82c8f10>"
      ]
     },
     "execution_count": 43,
     "metadata": {},
     "output_type": "execute_result"
    },
    {
     "data": {
      "image/png": "[encoded data removed]",
      "text/plain": [
       "<Figure size 1224x720 with 2 Axes>"
      ]
     },
     "metadata": {
      "needs_background": "light"
     },
     "output_type": "display_data"
    }
   ],
   "source": [
    "#relações entre notas e dados socieconomicos\n",
    "plt.subplots(figsize=(17, 10))\n",
    "sns.heatmap(notas_classes[['TP_ESCOLA','CIENCIAS_NATUREZA', 'CIENCIAS_HUMANAS', 'LINGUAGENS_CODIGOS', 'MATEMATICA', 'REDACAO', 'RENDA', 'NOTA_TOTAL']].corr(), cmap=\"PiYG\")"
   ]
  },
  {
   "cell_type": "markdown",
   "metadata": {},
   "source": [
    "Buscou-se estabelecer uma correlação entre a Renda e o Tipo de escola, que foi inserida pelo candidato durante a inscrição para a prova do Enem 2019, com a nota final obtida pelo candidato, porém verificou-se que existe pouca correlação entre as variáveis. Dessa forma, criou-se uma separação entre os candidatos que tiveram notas acima de 510 e os que ficaram abaixo desse valor. De modo a verificar se o aluno que ultrapassou esse valor tem relação a determinada Renda ou Tipo de escola."
   ]
  },
  {
   "cell_type": "code",
   "execution_count": 44,
   "metadata": {},
   "outputs": [],
   "source": [
    "def result_enem(row):\n",
    "    if row['NOTA_TOTAL'] < 510:\n",
    "        return 0\n",
    "    else :\n",
    "        return 1"
   ]
  },
  {
   "cell_type": "code",
   "execution_count": 45,
   "metadata": {},
   "outputs": [],
   "source": [
    "notas_classes[\"RESULTADO\"] = notas_classes.apply(result_enem, axis=1)"
   ]
  },
  {
   "cell_type": "code",
   "execution_count": 46,
   "metadata": {},
   "outputs": [
    {
     "data": {
      "text/html": [
       "<div>\n",
       "<style scoped>\n",
       "    .dataframe tbody tr th:only-of-type {\n",
       "        vertical-align: middle;\n",
       "    }\n",
       "\n",
       "    .dataframe tbody tr th {\n",
       "        vertical-align: top;\n",
       "    }\n",
       "\n",
       "    .dataframe thead th {\n",
       "        text-align: right;\n",
       "    }\n",
       "</style>\n",
       "<table border=\"1\" class=\"dataframe\">\n",
       "  <thead>\n",
       "    <tr style=\"text-align: right;\">\n",
       "      <th></th>\n",
       "      <th>NU_INSCRICAO</th>\n",
       "      <th>SG_UF_RESIDENCIA</th>\n",
       "      <th>TP_ESCOLA</th>\n",
       "      <th>CIENCIAS_NATUREZA</th>\n",
       "      <th>CIENCIAS_HUMANAS</th>\n",
       "      <th>LINGUAGENS_CODIGOS</th>\n",
       "      <th>MATEMATICA</th>\n",
       "      <th>REDACAO</th>\n",
       "      <th>RENDA</th>\n",
       "      <th>NOTA_TOTAL</th>\n",
       "      <th>RESULTADO</th>\n",
       "    </tr>\n",
       "  </thead>\n",
       "  <tbody>\n",
       "    <tr>\n",
       "      <th>1</th>\n",
       "      <td>190001237802</td>\n",
       "      <td>MG</td>\n",
       "      <td>1</td>\n",
       "      <td>513.6</td>\n",
       "      <td>575.5</td>\n",
       "      <td>570.7</td>\n",
       "      <td>677.0</td>\n",
       "      <td>860.0</td>\n",
       "      <td>2</td>\n",
       "      <td>639.36</td>\n",
       "      <td>1</td>\n",
       "    </tr>\n",
       "    <tr>\n",
       "      <th>2</th>\n",
       "      <td>190001421548</td>\n",
       "      <td>BA</td>\n",
       "      <td>1</td>\n",
       "      <td>484.6</td>\n",
       "      <td>488.4</td>\n",
       "      <td>507.2</td>\n",
       "      <td>594.7</td>\n",
       "      <td>600.0</td>\n",
       "      <td>1</td>\n",
       "      <td>534.98</td>\n",
       "      <td>1</td>\n",
       "    </tr>\n",
       "    <tr>\n",
       "      <th>4</th>\n",
       "      <td>190001592266</td>\n",
       "      <td>SP</td>\n",
       "      <td>2</td>\n",
       "      <td>543.9</td>\n",
       "      <td>548.1</td>\n",
       "      <td>502.5</td>\n",
       "      <td>480.7</td>\n",
       "      <td>400.0</td>\n",
       "      <td>1</td>\n",
       "      <td>495.04</td>\n",
       "      <td>0</td>\n",
       "    </tr>\n",
       "    <tr>\n",
       "      <th>6</th>\n",
       "      <td>190001475147</td>\n",
       "      <td>RN</td>\n",
       "      <td>1</td>\n",
       "      <td>518.2</td>\n",
       "      <td>351.7</td>\n",
       "      <td>417.6</td>\n",
       "      <td>459.0</td>\n",
       "      <td>500.0</td>\n",
       "      <td>1</td>\n",
       "      <td>449.30</td>\n",
       "      <td>0</td>\n",
       "    </tr>\n",
       "    <tr>\n",
       "      <th>17</th>\n",
       "      <td>190001237805</td>\n",
       "      <td>MG</td>\n",
       "      <td>1</td>\n",
       "      <td>560.0</td>\n",
       "      <td>592.0</td>\n",
       "      <td>591.1</td>\n",
       "      <td>695.1</td>\n",
       "      <td>540.0</td>\n",
       "      <td>2</td>\n",
       "      <td>595.64</td>\n",
       "      <td>1</td>\n",
       "    </tr>\n",
       "    <tr>\n",
       "      <th>18</th>\n",
       "      <td>190001421552</td>\n",
       "      <td>BA</td>\n",
       "      <td>2</td>\n",
       "      <td>567.3</td>\n",
       "      <td>584.1</td>\n",
       "      <td>595.8</td>\n",
       "      <td>704.5</td>\n",
       "      <td>620.0</td>\n",
       "      <td>1</td>\n",
       "      <td>614.34</td>\n",
       "      <td>1</td>\n",
       "    </tr>\n",
       "    <tr>\n",
       "      <th>20</th>\n",
       "      <td>190001237806</td>\n",
       "      <td>MG</td>\n",
       "      <td>1</td>\n",
       "      <td>504.2</td>\n",
       "      <td>554.6</td>\n",
       "      <td>519.7</td>\n",
       "      <td>462.4</td>\n",
       "      <td>580.0</td>\n",
       "      <td>1</td>\n",
       "      <td>524.18</td>\n",
       "      <td>1</td>\n",
       "    </tr>\n",
       "    <tr>\n",
       "      <th>25</th>\n",
       "      <td>190001480443</td>\n",
       "      <td>PB</td>\n",
       "      <td>2</td>\n",
       "      <td>373.2</td>\n",
       "      <td>409.6</td>\n",
       "      <td>469.5</td>\n",
       "      <td>379.1</td>\n",
       "      <td>480.0</td>\n",
       "      <td>1</td>\n",
       "      <td>422.28</td>\n",
       "      <td>0</td>\n",
       "    </tr>\n",
       "    <tr>\n",
       "      <th>27</th>\n",
       "      <td>190002037440</td>\n",
       "      <td>DF</td>\n",
       "      <td>2</td>\n",
       "      <td>389.7</td>\n",
       "      <td>431.1</td>\n",
       "      <td>482.0</td>\n",
       "      <td>529.7</td>\n",
       "      <td>560.0</td>\n",
       "      <td>1</td>\n",
       "      <td>478.50</td>\n",
       "      <td>0</td>\n",
       "    </tr>\n",
       "    <tr>\n",
       "      <th>31</th>\n",
       "      <td>190001042835</td>\n",
       "      <td>PA</td>\n",
       "      <td>1</td>\n",
       "      <td>463.9</td>\n",
       "      <td>559.7</td>\n",
       "      <td>542.1</td>\n",
       "      <td>377.9</td>\n",
       "      <td>740.0</td>\n",
       "      <td>1</td>\n",
       "      <td>536.72</td>\n",
       "      <td>1</td>\n",
       "    </tr>\n",
       "  </tbody>\n",
       "</table>\n",
       "</div>"
      ],
      "text/plain": [
       "    NU_INSCRICAO SG_UF_RESIDENCIA  TP_ESCOLA  CIENCIAS_NATUREZA  \\\n",
       "1   190001237802               MG          1              513.6   \n",
       "2   190001421548               BA          1              484.6   \n",
       "4   190001592266               SP          2              543.9   \n",
       "6   190001475147               RN          1              518.2   \n",
       "17  190001237805               MG          1              560.0   \n",
       "18  190001421552               BA          2              567.3   \n",
       "20  190001237806               MG          1              504.2   \n",
       "25  190001480443               PB          2              373.2   \n",
       "27  190002037440               DF          2              389.7   \n",
       "31  190001042835               PA          1              463.9   \n",
       "\n",
       "    CIENCIAS_HUMANAS  LINGUAGENS_CODIGOS  MATEMATICA  REDACAO  RENDA  \\\n",
       "1              575.5               570.7       677.0    860.0      2   \n",
       "2              488.4               507.2       594.7    600.0      1   \n",
       "4              548.1               502.5       480.7    400.0      1   \n",
       "6              351.7               417.6       459.0    500.0      1   \n",
       "17             592.0               591.1       695.1    540.0      2   \n",
       "18             584.1               595.8       704.5    620.0      1   \n",
       "20             554.6               519.7       462.4    580.0      1   \n",
       "25             409.6               469.5       379.1    480.0      1   \n",
       "27             431.1               482.0       529.7    560.0      1   \n",
       "31             559.7               542.1       377.9    740.0      1   \n",
       "\n",
       "    NOTA_TOTAL  RESULTADO  \n",
       "1       639.36          1  \n",
       "2       534.98          1  \n",
       "4       495.04          0  \n",
       "6       449.30          0  \n",
       "17      595.64          1  \n",
       "18      614.34          1  \n",
       "20      524.18          1  \n",
       "25      422.28          0  \n",
       "27      478.50          0  \n",
       "31      536.72          1  "
      ]
     },
     "execution_count": 46,
     "metadata": {},
     "output_type": "execute_result"
    }
   ],
   "source": [
    "notas_classes.head(10)"
   ]
  },
  {
   "cell_type": "code",
   "execution_count": 51,
   "metadata": {},
   "outputs": [
    {
     "data": {
      "text/plain": [
       "<matplotlib.axes._subplots.AxesSubplot at 0x1a7c6acfb50>"
      ]
     },
     "execution_count": 51,
     "metadata": {},
     "output_type": "execute_result"
    },
    {
     "data": {
      "image/png": "[encoded data removed]",
      "text/plain": [
       "<Figure size 1224x720 with 2 Axes>"
      ]
     },
     "metadata": {
      "needs_background": "light"
     },
     "output_type": "display_data"
    }
   ],
   "source": [
    "#relações entre notas e dados socieconomicos\n",
    "plt.subplots(figsize=(17, 10))\n",
    "sns.heatmap(notas_classes[['TP_ESCOLA','CIENCIAS_NATUREZA', 'CIENCIAS_HUMANAS', 'LINGUAGENS_CODIGOS', 'MATEMATICA', 'REDACAO', 'RENDA', 'RESULTADO']].corr(), cmap=\"PiYG\")"
   ]
  },
  {
   "cell_type": "raw",
   "metadata": {},
   "source": [
    "A avaliação do mapa de calor acima mostra que também não existe uma forte correlação entre o resultado total da prova do Enem de 2019, com o tipo de renda ou o tipo de escola que o candidado declarou durante a inscrição."
   ]
  },
  {
   "cell_type": "raw",
   "metadata": {},
   "source": [
    "Separou-se a base de dados em 70% para treinamento e 30% para testar o modelo. O modelo irá aplicar os algoritmos de classificação em 70% da base e depois com os 30%, onde os mesmos foram fornecidos ao modelo sem a coluna alvo, para que o modelo possa tentar prever o resultado, e assim medir o nível de acurácia do modelo."
   ]
  },
  {
   "cell_type": "code",
   "execution_count": 47,
   "metadata": {},
   "outputs": [],
   "source": [
    "from sklearn.model_selection import train_test_split\n",
    "from sklearn import metrics\n",
    "X_train, X_test, y_train, y_test = train_test_split(notas_classes[['TP_ESCOLA', 'RENDA']], notas_classes['RESULTADO'], test_size=0.3)"
   ]
  },
  {
   "cell_type": "code",
   "execution_count": 48,
   "metadata": {},
   "outputs": [
    {
     "data": {
      "text/plain": [
       "KNeighborsClassifier()"
      ]
     },
     "execution_count": 48,
     "metadata": {},
     "output_type": "execute_result"
    }
   ],
   "source": [
    "#KNN (K-Nearest Neighbors )\n",
    "from sklearn.neighbors import KNeighborsClassifier\n",
    "# Definindo o número de vizinhos.\n",
    "knn = KNeighborsClassifier(n_neighbors=5)\n",
    "knn.fit(X_train, y_train)"
   ]
  },
  {
   "cell_type": "code",
   "execution_count": 49,
   "metadata": {},
   "outputs": [
    {
     "name": "stdout",
     "output_type": "stream",
     "text": [
      "              precision    recall  f1-score   support\n",
      "\n",
      "           0       0.56      0.47      0.51    142033\n",
      "           1       0.55      0.63      0.58    144131\n",
      "\n",
      "    accuracy                           0.55    286164\n",
      "   macro avg       0.55      0.55      0.55    286164\n",
      "weighted avg       0.55      0.55      0.55    286164\n",
      "\n"
     ]
    }
   ],
   "source": [
    "#Para determinar a acurácia do modelo\n",
    "result = knn.predict(X_test)\n",
    "from sklearn import metrics\n",
    "print(metrics.classification_report(y_test,result))"
   ]
  },
  {
   "cell_type": "code",
   "execution_count": 50,
   "metadata": {},
   "outputs": [
    {
     "name": "stdout",
     "output_type": "stream",
     "text": [
      "              precision    recall  f1-score   support\n",
      "\n",
      "           0       0.57      0.91      0.70    142033\n",
      "           1       0.79      0.32      0.46    144131\n",
      "\n",
      "    accuracy                           0.62    286164\n",
      "   macro avg       0.68      0.62      0.58    286164\n",
      "weighted avg       0.68      0.62      0.58    286164\n",
      "\n"
     ]
    }
   ],
   "source": [
    "#Random forest\n",
    "#Importa a biblioteca\n",
    "from sklearn.ensemble import RandomForestClassifier\n",
    "model= RandomForestClassifier()\n",
    "#Treina o modelo usando os dados de treino e confere o score\n",
    "model.fit(X_train,y_train)\n",
    "#Prevê o resultado e determina a acurácia do modelo\n",
    "predicted= model.predict(X_test)\n",
    "print(metrics.classification_report(y_test,predicted))"
   ]
  },
  {
   "cell_type": "raw",
   "metadata": {},
   "source": [
    "Apesar de muitos dados disponíveis, tornou-se dificil de determinar um modelo que pudesse ter uma alta acurácia e prever o comportamento do tipo de escola, a renda, como influenciadoras na nota final do candidato. "
   ]
  }
 ],
 "metadata": {
  "kernelspec": {
   "display_name": "Python 3",
   "language": "python",
   "name": "python3"
  },
  "language_info": {
   "codemirror_mode": {
    "name": "ipython",
    "version": 3
   },
   "file_extension": ".py",
   "mimetype": "text/x-python",
   "name": "python",
   "nbconvert_exporter": "python",
   "pygments_lexer": "ipython3",
   "version": "3.8.5"
  }
 },
 "nbformat": 4,
 "nbformat_minor": 4
}
